{
 "cells": [
  {
   "cell_type": "code",
   "execution_count": 1,
   "id": "45f28f51",
   "metadata": {},
   "outputs": [
    {
     "name": "stdout",
     "output_type": "stream",
     "text": [
      "Collecting ipython-sql\n",
      "  Downloading ipython_sql-0.5.0-py3-none-any.whl (20 kB)\n",
      "Requirement already satisfied: ipython-genutils in c:\\users\\asus\\anacondadetails\\lib\\site-packages (from ipython-sql) (0.2.0)\n",
      "Requirement already satisfied: six in c:\\users\\asus\\anacondadetails\\lib\\site-packages (from ipython-sql) (1.16.0)\n",
      "Collecting sqlalchemy>=2.0\n",
      "  Downloading SQLAlchemy-2.0.19-cp310-cp310-win_amd64.whl (2.0 MB)\n",
      "     ---------------------------------------- 2.0/2.0 MB 6.7 MB/s eta 0:00:00\n",
      "Collecting prettytable\n",
      "  Downloading prettytable-3.8.0-py3-none-any.whl (27 kB)\n",
      "Requirement already satisfied: ipython in c:\\users\\asus\\anacondadetails\\lib\\site-packages (from ipython-sql) (8.10.0)\n",
      "Collecting sqlparse\n",
      "  Downloading sqlparse-0.4.4-py3-none-any.whl (41 kB)\n",
      "     ---------------------------------------- 41.2/41.2 kB 2.1 MB/s eta 0:00:00\n",
      "Requirement already satisfied: typing-extensions>=4.2.0 in c:\\users\\asus\\anacondadetails\\lib\\site-packages (from sqlalchemy>=2.0->ipython-sql) (4.4.0)\n",
      "Requirement already satisfied: greenlet!=0.4.17 in c:\\users\\asus\\anacondadetails\\lib\\site-packages (from sqlalchemy>=2.0->ipython-sql) (2.0.1)\n",
      "Requirement already satisfied: backcall in c:\\users\\asus\\anacondadetails\\lib\\site-packages (from ipython->ipython-sql) (0.2.0)\n",
      "Requirement already satisfied: pickleshare in c:\\users\\asus\\anacondadetails\\lib\\site-packages (from ipython->ipython-sql) (0.7.5)\n",
      "Requirement already satisfied: matplotlib-inline in c:\\users\\asus\\anacondadetails\\lib\\site-packages (from ipython->ipython-sql) (0.1.6)\n",
      "Requirement already satisfied: colorama in c:\\users\\asus\\anacondadetails\\lib\\site-packages (from ipython->ipython-sql) (0.4.6)\n",
      "Requirement already satisfied: decorator in c:\\users\\asus\\anacondadetails\\lib\\site-packages (from ipython->ipython-sql) (5.1.1)\n",
      "Requirement already satisfied: jedi>=0.16 in c:\\users\\asus\\anacondadetails\\lib\\site-packages (from ipython->ipython-sql) (0.18.1)\n",
      "Requirement already satisfied: pygments>=2.4.0 in c:\\users\\asus\\anacondadetails\\lib\\site-packages (from ipython->ipython-sql) (2.11.2)\n",
      "Requirement already satisfied: prompt-toolkit<3.1.0,>=3.0.30 in c:\\users\\asus\\anacondadetails\\lib\\site-packages (from ipython->ipython-sql) (3.0.36)\n",
      "Requirement already satisfied: stack-data in c:\\users\\asus\\anacondadetails\\lib\\site-packages (from ipython->ipython-sql) (0.2.0)\n",
      "Requirement already satisfied: traitlets>=5 in c:\\users\\asus\\anacondadetails\\lib\\site-packages (from ipython->ipython-sql) (5.7.1)\n",
      "Requirement already satisfied: wcwidth in c:\\users\\asus\\anacondadetails\\lib\\site-packages (from prettytable->ipython-sql) (0.2.5)\n",
      "Requirement already satisfied: parso<0.9.0,>=0.8.0 in c:\\users\\asus\\anacondadetails\\lib\\site-packages (from jedi>=0.16->ipython->ipython-sql) (0.8.3)\n",
      "Requirement already satisfied: pure-eval in c:\\users\\asus\\anacondadetails\\lib\\site-packages (from stack-data->ipython->ipython-sql) (0.2.2)\n",
      "Requirement already satisfied: asttokens in c:\\users\\asus\\anacondadetails\\lib\\site-packages (from stack-data->ipython->ipython-sql) (2.0.5)\n",
      "Requirement already satisfied: executing in c:\\users\\asus\\anacondadetails\\lib\\site-packages (from stack-data->ipython->ipython-sql) (0.8.3)\n",
      "Installing collected packages: sqlparse, sqlalchemy, prettytable, ipython-sql\n",
      "  Attempting uninstall: sqlalchemy\n",
      "    Found existing installation: SQLAlchemy 1.4.39\n",
      "    Uninstalling SQLAlchemy-1.4.39:\n",
      "      Successfully uninstalled SQLAlchemy-1.4.39\n",
      "Successfully installed ipython-sql-0.5.0 prettytable-3.8.0 sqlalchemy-2.0.19 sqlparse-0.4.4\n",
      "Note: you may need to restart the kernel to use updated packages.\n"
     ]
    }
   ],
   "source": [
    "pip install ipython-sql"
   ]
  },
  {
   "cell_type": "code",
   "execution_count": 4,
   "id": "6a11a5ce",
   "metadata": {},
   "outputs": [],
   "source": [
    "import pandas as pd\n",
    "import sqlite3"
   ]
  },
  {
   "cell_type": "code",
   "execution_count": 5,
   "id": "efaa0078",
   "metadata": {},
   "outputs": [
    {
     "data": {
      "text/plain": [
       "['Requirement already satisfied: ipython-sql in c:\\\\users\\\\asus\\\\anacondadetails\\\\lib\\\\site-packages (0.5.0)',\n",
       " 'Requirement already satisfied: sqlalchemy>=2.0 in c:\\\\users\\\\asus\\\\anacondadetails\\\\lib\\\\site-packages (from ipython-sql) (2.0.19)',\n",
       " 'Requirement already satisfied: ipython in c:\\\\users\\\\asus\\\\anacondadetails\\\\lib\\\\site-packages (from ipython-sql) (8.10.0)',\n",
       " 'Requirement already satisfied: six in c:\\\\users\\\\asus\\\\anacondadetails\\\\lib\\\\site-packages (from ipython-sql) (1.16.0)',\n",
       " 'Requirement already satisfied: sqlparse in c:\\\\users\\\\asus\\\\anacondadetails\\\\lib\\\\site-packages (from ipython-sql) (0.4.4)',\n",
       " 'Requirement already satisfied: prettytable in c:\\\\users\\\\asus\\\\anacondadetails\\\\lib\\\\site-packages (from ipython-sql) (3.8.0)',\n",
       " 'Requirement already satisfied: ipython-genutils in c:\\\\users\\\\asus\\\\anacondadetails\\\\lib\\\\site-packages (from ipython-sql) (0.2.0)',\n",
       " 'Requirement already satisfied: greenlet!=0.4.17 in c:\\\\users\\\\asus\\\\anacondadetails\\\\lib\\\\site-packages (from sqlalchemy>=2.0->ipython-sql) (2.0.1)',\n",
       " 'Requirement already satisfied: typing-extensions>=4.2.0 in c:\\\\users\\\\asus\\\\anacondadetails\\\\lib\\\\site-packages (from sqlalchemy>=2.0->ipython-sql) (4.4.0)',\n",
       " 'Requirement already satisfied: backcall in c:\\\\users\\\\asus\\\\anacondadetails\\\\lib\\\\site-packages (from ipython->ipython-sql) (0.2.0)',\n",
       " 'Requirement already satisfied: decorator in c:\\\\users\\\\asus\\\\anacondadetails\\\\lib\\\\site-packages (from ipython->ipython-sql) (5.1.1)',\n",
       " 'Requirement already satisfied: jedi>=0.16 in c:\\\\users\\\\asus\\\\anacondadetails\\\\lib\\\\site-packages (from ipython->ipython-sql) (0.18.1)',\n",
       " 'Requirement already satisfied: pickleshare in c:\\\\users\\\\asus\\\\anacondadetails\\\\lib\\\\site-packages (from ipython->ipython-sql) (0.7.5)',\n",
       " 'Requirement already satisfied: matplotlib-inline in c:\\\\users\\\\asus\\\\anacondadetails\\\\lib\\\\site-packages (from ipython->ipython-sql) (0.1.6)',\n",
       " 'Requirement already satisfied: prompt-toolkit<3.1.0,>=3.0.30 in c:\\\\users\\\\asus\\\\anacondadetails\\\\lib\\\\site-packages (from ipython->ipython-sql) (3.0.36)',\n",
       " 'Requirement already satisfied: traitlets>=5 in c:\\\\users\\\\asus\\\\anacondadetails\\\\lib\\\\site-packages (from ipython->ipython-sql) (5.7.1)',\n",
       " 'Requirement already satisfied: pygments>=2.4.0 in c:\\\\users\\\\asus\\\\anacondadetails\\\\lib\\\\site-packages (from ipython->ipython-sql) (2.11.2)',\n",
       " 'Requirement already satisfied: colorama in c:\\\\users\\\\asus\\\\anacondadetails\\\\lib\\\\site-packages (from ipython->ipython-sql) (0.4.6)',\n",
       " 'Requirement already satisfied: stack-data in c:\\\\users\\\\asus\\\\anacondadetails\\\\lib\\\\site-packages (from ipython->ipython-sql) (0.2.0)',\n",
       " 'Requirement already satisfied: wcwidth in c:\\\\users\\\\asus\\\\anacondadetails\\\\lib\\\\site-packages (from prettytable->ipython-sql) (0.2.5)',\n",
       " 'Requirement already satisfied: parso<0.9.0,>=0.8.0 in c:\\\\users\\\\asus\\\\anacondadetails\\\\lib\\\\site-packages (from jedi>=0.16->ipython->ipython-sql) (0.8.3)',\n",
       " 'Requirement already satisfied: pure-eval in c:\\\\users\\\\asus\\\\anacondadetails\\\\lib\\\\site-packages (from stack-data->ipython->ipython-sql) (0.2.2)',\n",
       " 'Requirement already satisfied: asttokens in c:\\\\users\\\\asus\\\\anacondadetails\\\\lib\\\\site-packages (from stack-data->ipython->ipython-sql) (2.0.5)',\n",
       " 'Requirement already satisfied: executing in c:\\\\users\\\\asus\\\\anacondadetails\\\\lib\\\\site-packages (from stack-data->ipython->ipython-sql) (0.8.3)']"
      ]
     },
     "execution_count": 5,
     "metadata": {},
     "output_type": "execute_result"
    }
   ],
   "source": [
    "%%!\n",
    "pip install --trusted-host pypi.org ipython-sql"
   ]
  },
  {
   "cell_type": "code",
   "execution_count": 6,
   "id": "1fcbd7df",
   "metadata": {},
   "outputs": [],
   "source": [
    "%load_ext sql"
   ]
  },
  {
   "cell_type": "code",
   "execution_count": 7,
   "id": "eb9791fb",
   "metadata": {},
   "outputs": [],
   "source": [
    "%sql sqlite://"
   ]
  },
  {
   "cell_type": "code",
   "execution_count": 9,
   "id": "45bda4ca",
   "metadata": {},
   "outputs": [
    {
     "name": "stdout",
     "output_type": "stream",
     "text": [
      " * sqlite://\n",
      "Done.\n"
     ]
    },
    {
     "data": {
      "text/plain": [
       "[]"
      ]
     },
     "execution_count": 9,
     "metadata": {},
     "output_type": "execute_result"
    }
   ],
   "source": [
    "%%sql\n",
    "\n",
    "CREATE TABLE Departments (\n",
    "  Code INTEGER PRIMARY KEY,\n",
    "  Name varchar(255) NOT NULL ,\n",
    "  Budget decimal NOT NULL \n",
    ");"
   ]
  },
  {
   "cell_type": "code",
   "execution_count": 12,
   "id": "12c3f7ac",
   "metadata": {},
   "outputs": [
    {
     "name": "stdout",
     "output_type": "stream",
     "text": [
      " * sqlite://\n",
      "(sqlite3.OperationalError) near \"describe\": syntax error\n",
      "[SQL: describe Departments]\n",
      "(Background on this error at: https://sqlalche.me/e/20/e3q8)\n"
     ]
    }
   ],
   "source": [
    "%%sql\n",
    "describe Departments"
   ]
  },
  {
   "cell_type": "code",
   "execution_count": 13,
   "id": "b57bca75",
   "metadata": {},
   "outputs": [
    {
     "name": "stdout",
     "output_type": "stream",
     "text": [
      " * sqlite://\n",
      "1 rows affected.\n",
      "1 rows affected.\n",
      "1 rows affected.\n",
      "1 rows affected.\n"
     ]
    },
    {
     "data": {
      "text/plain": [
       "[]"
      ]
     },
     "execution_count": 13,
     "metadata": {},
     "output_type": "execute_result"
    }
   ],
   "source": [
    "%%sql\n",
    "INSERT INTO Departments(Code,Name,Budget) VALUES(14,'IT',65000);\n",
    "INSERT INTO Departments(Code,Name,Budget) VALUES(37,'Accounting',15000);\n",
    "INSERT INTO Departments(Code,Name,Budget) VALUES(59,'Human Resources',240000);\n",
    "INSERT INTO Departments(Code,Name,Budget) VALUES(77,'Research',55000);"
   ]
  },
  {
   "cell_type": "code",
   "execution_count": 14,
   "id": "08490c25",
   "metadata": {},
   "outputs": [
    {
     "name": "stdout",
     "output_type": "stream",
     "text": [
      " * sqlite://\n",
      "Done.\n"
     ]
    },
    {
     "data": {
      "text/html": [
       "<table>\n",
       "    <thead>\n",
       "        <tr>\n",
       "            <th>Code</th>\n",
       "            <th>Name</th>\n",
       "            <th>Budget</th>\n",
       "        </tr>\n",
       "    </thead>\n",
       "    <tbody>\n",
       "        <tr>\n",
       "            <td>14</td>\n",
       "            <td>IT</td>\n",
       "            <td>65000</td>\n",
       "        </tr>\n",
       "        <tr>\n",
       "            <td>37</td>\n",
       "            <td>Accounting</td>\n",
       "            <td>15000</td>\n",
       "        </tr>\n",
       "        <tr>\n",
       "            <td>59</td>\n",
       "            <td>Human Resources</td>\n",
       "            <td>240000</td>\n",
       "        </tr>\n",
       "        <tr>\n",
       "            <td>77</td>\n",
       "            <td>Research</td>\n",
       "            <td>55000</td>\n",
       "        </tr>\n",
       "    </tbody>\n",
       "</table>"
      ],
      "text/plain": [
       "[(14, 'IT', 65000),\n",
       " (37, 'Accounting', 15000),\n",
       " (59, 'Human Resources', 240000),\n",
       " (77, 'Research', 55000)]"
      ]
     },
     "execution_count": 14,
     "metadata": {},
     "output_type": "execute_result"
    }
   ],
   "source": [
    "%%sql \n",
    "select * from Departments"
   ]
  },
  {
   "cell_type": "code",
   "execution_count": 15,
   "id": "ecf6cf07",
   "metadata": {},
   "outputs": [
    {
     "name": "stdout",
     "output_type": "stream",
     "text": [
      " * sqlite://\n",
      "Done.\n"
     ]
    },
    {
     "data": {
      "text/plain": [
       "[]"
      ]
     },
     "execution_count": 15,
     "metadata": {},
     "output_type": "execute_result"
    }
   ],
   "source": [
    "%%sql \n",
    "CREATE TABLE Employees (\n",
    "  SSN INTEGER PRIMARY KEY,\n",
    "  Name varchar(255) NOT NULL ,\n",
    "  LastName varchar(255) NOT NULL ,\n",
    "  Department INTEGER NOT NULL , \n",
    "  foreign key (department) references Departments(Code) \n",
    ");"
   ]
  },
  {
   "cell_type": "code",
   "execution_count": 17,
   "id": "226a5dd9",
   "metadata": {},
   "outputs": [
    {
     "name": "stdout",
     "output_type": "stream",
     "text": [
      " * sqlite://\n",
      "1 rows affected.\n",
      "1 rows affected.\n",
      "1 rows affected.\n",
      "1 rows affected.\n",
      "1 rows affected.\n",
      "1 rows affected.\n",
      "1 rows affected.\n",
      "1 rows affected.\n",
      "1 rows affected.\n",
      "1 rows affected.\n",
      "1 rows affected.\n",
      "1 rows affected.\n"
     ]
    },
    {
     "data": {
      "text/plain": [
       "[]"
      ]
     },
     "execution_count": 17,
     "metadata": {},
     "output_type": "execute_result"
    }
   ],
   "source": [
    "%%sql\n",
    "INSERT INTO Employees(SSN,Name,LastName,Department) VALUES('123234877','Michael','Rogers',14);\n",
    "INSERT INTO Employees(SSN,Name,LastName,Department) VALUES('152934485','Anand','Manikutty',14);\n",
    "INSERT INTO Employees(SSN,Name,LastName,Department) VALUES('222364883','Carol','Smith',37);\n",
    "INSERT INTO Employees(SSN,Name,LastName,Department) VALUES('326587417','Joe','Stevens',37);\n",
    "INSERT INTO Employees(SSN,Name,LastName,Department) VALUES('332154719','Mary-Anne','Foster',14);\n",
    "INSERT INTO Employees(SSN,Name,LastName,Department) VALUES('332569843','George','ODonnell',77);\n",
    "INSERT INTO Employees(SSN,Name,LastName,Department) VALUES('546523478','John','Doe',59);\n",
    "INSERT INTO Employees(SSN,Name,LastName,Department) VALUES('631231482','David','Smith',77);\n",
    "INSERT INTO Employees(SSN,Name,LastName,Department) VALUES('654873219','Zacary','Efron',59);\n",
    "INSERT INTO Employees(SSN,Name,LastName,Department) VALUES('745685214','Eric','Goldsmith',59);\n",
    "INSERT INTO Employees(SSN,Name,LastName,Department) VALUES('845657245','Elizabeth','Doe',14);\n",
    "INSERT INTO Employees(SSN,Name,LastName,Department) VALUES('845657246','Kumar','Swamy',14);"
   ]
  },
  {
   "cell_type": "code",
   "execution_count": 18,
   "id": "742fb5c4",
   "metadata": {},
   "outputs": [
    {
     "name": "stdout",
     "output_type": "stream",
     "text": [
      " * sqlite://\n",
      "Done.\n"
     ]
    },
    {
     "data": {
      "text/html": [
       "<table>\n",
       "    <thead>\n",
       "        <tr>\n",
       "            <th>SSN</th>\n",
       "            <th>Name</th>\n",
       "            <th>LastName</th>\n",
       "            <th>Department</th>\n",
       "        </tr>\n",
       "    </thead>\n",
       "    <tbody>\n",
       "        <tr>\n",
       "            <td>123234877</td>\n",
       "            <td>Michael</td>\n",
       "            <td>Rogers</td>\n",
       "            <td>14</td>\n",
       "        </tr>\n",
       "        <tr>\n",
       "            <td>152934485</td>\n",
       "            <td>Anand</td>\n",
       "            <td>Manikutty</td>\n",
       "            <td>14</td>\n",
       "        </tr>\n",
       "        <tr>\n",
       "            <td>222364883</td>\n",
       "            <td>Carol</td>\n",
       "            <td>Smith</td>\n",
       "            <td>37</td>\n",
       "        </tr>\n",
       "        <tr>\n",
       "            <td>326587417</td>\n",
       "            <td>Joe</td>\n",
       "            <td>Stevens</td>\n",
       "            <td>37</td>\n",
       "        </tr>\n",
       "        <tr>\n",
       "            <td>332154719</td>\n",
       "            <td>Mary-Anne</td>\n",
       "            <td>Foster</td>\n",
       "            <td>14</td>\n",
       "        </tr>\n",
       "        <tr>\n",
       "            <td>332569843</td>\n",
       "            <td>George</td>\n",
       "            <td>ODonnell</td>\n",
       "            <td>77</td>\n",
       "        </tr>\n",
       "        <tr>\n",
       "            <td>546523478</td>\n",
       "            <td>John</td>\n",
       "            <td>Doe</td>\n",
       "            <td>59</td>\n",
       "        </tr>\n",
       "        <tr>\n",
       "            <td>631231482</td>\n",
       "            <td>David</td>\n",
       "            <td>Smith</td>\n",
       "            <td>77</td>\n",
       "        </tr>\n",
       "        <tr>\n",
       "            <td>654873219</td>\n",
       "            <td>Zacary</td>\n",
       "            <td>Efron</td>\n",
       "            <td>59</td>\n",
       "        </tr>\n",
       "        <tr>\n",
       "            <td>745685214</td>\n",
       "            <td>Eric</td>\n",
       "            <td>Goldsmith</td>\n",
       "            <td>59</td>\n",
       "        </tr>\n",
       "        <tr>\n",
       "            <td>845657245</td>\n",
       "            <td>Elizabeth</td>\n",
       "            <td>Doe</td>\n",
       "            <td>14</td>\n",
       "        </tr>\n",
       "        <tr>\n",
       "            <td>845657246</td>\n",
       "            <td>Kumar</td>\n",
       "            <td>Swamy</td>\n",
       "            <td>14</td>\n",
       "        </tr>\n",
       "    </tbody>\n",
       "</table>"
      ],
      "text/plain": [
       "[(123234877, 'Michael', 'Rogers', 14),\n",
       " (152934485, 'Anand', 'Manikutty', 14),\n",
       " (222364883, 'Carol', 'Smith', 37),\n",
       " (326587417, 'Joe', 'Stevens', 37),\n",
       " (332154719, 'Mary-Anne', 'Foster', 14),\n",
       " (332569843, 'George', 'ODonnell', 77),\n",
       " (546523478, 'John', 'Doe', 59),\n",
       " (631231482, 'David', 'Smith', 77),\n",
       " (654873219, 'Zacary', 'Efron', 59),\n",
       " (745685214, 'Eric', 'Goldsmith', 59),\n",
       " (845657245, 'Elizabeth', 'Doe', 14),\n",
       " (845657246, 'Kumar', 'Swamy', 14)]"
      ]
     },
     "execution_count": 18,
     "metadata": {},
     "output_type": "execute_result"
    }
   ],
   "source": [
    "%%sql\n",
    "select * from Employees"
   ]
  },
  {
   "cell_type": "code",
   "execution_count": null,
   "id": "ecc98c44",
   "metadata": {},
   "outputs": [],
   "source": [
    "2.1 Select the last name of all employees.\n",
    "-- 2.2 Select the last name of all employees, without duplicates.\n",
    "-- 2.3 Select all the data of employees whose last name is \"Smith\".\n",
    "-- 2.4 Select all the data of employees whose last name is \"Smith\" or \"Doe\".\n",
    "-- 2.5 Select all the data of employees that work in department 14.\n",
    "-- 2.6 Select all the data of employees that work in department 37 or department 77.\n",
    "-- 2.7 Select all the data of employees whose last name begins with an \"S\".\n",
    "-- 2.8 Select the sum of all the departments' budgets.\n",
    "-- 2.9 Select the number of employees in each department (you only need to show the department code and the number of employees).\n",
    "-- 2.10 Select all the data of employees, including each employee's department's data.\n",
    "-- 2.11 Select the name and last name of each employee, along with the name and budget of the employee's department.\n",
    "-- 2.12 Select the name and last name of employees working for departments with a budget greater than $60,000.\n",
    "-- 2.13 Select the departments with a budget larger than the average budget of all the departments.\n",
    "-- 2.14 Select the names of departments with more than two employees.\n",
    "-- 2.15 Very Important - Select the name and last name of employees working for departments with second lowest budget.\n",
    "-- 2.16  Add a new department called \"Quality Assurance\", with a budget of $40,000 and departmental code 11. \n",
    "-- And Add an employee called \"Mary Moore\" in that department, with SSN 847-21-9811.\n",
    "-- 2.17 Reduce the budget of all departments by 10%.\n",
    "-- 2.18 Reassign all employees from the Research department (code 77) to the IT department (code 14).\n",
    "-- 2.19 Delete from the table all employees in the IT department (code 14).\n",
    "-- 2.20 Delete from the table all employees who work in departments with a budget greater than or equal to $60,000.\n",
    "-- 2.21 Delete from the table all employees."
   ]
  },
  {
   "cell_type": "code",
   "execution_count": 19,
   "id": "f3d98fba",
   "metadata": {},
   "outputs": [
    {
     "name": "stdout",
     "output_type": "stream",
     "text": [
      " * sqlite://\n",
      "Done.\n"
     ]
    },
    {
     "data": {
      "text/html": [
       "<table>\n",
       "    <thead>\n",
       "        <tr>\n",
       "            <th>LastName</th>\n",
       "        </tr>\n",
       "    </thead>\n",
       "    <tbody>\n",
       "        <tr>\n",
       "            <td>Rogers</td>\n",
       "        </tr>\n",
       "        <tr>\n",
       "            <td>Manikutty</td>\n",
       "        </tr>\n",
       "        <tr>\n",
       "            <td>Smith</td>\n",
       "        </tr>\n",
       "        <tr>\n",
       "            <td>Stevens</td>\n",
       "        </tr>\n",
       "        <tr>\n",
       "            <td>Foster</td>\n",
       "        </tr>\n",
       "        <tr>\n",
       "            <td>ODonnell</td>\n",
       "        </tr>\n",
       "        <tr>\n",
       "            <td>Doe</td>\n",
       "        </tr>\n",
       "        <tr>\n",
       "            <td>Smith</td>\n",
       "        </tr>\n",
       "        <tr>\n",
       "            <td>Efron</td>\n",
       "        </tr>\n",
       "        <tr>\n",
       "            <td>Goldsmith</td>\n",
       "        </tr>\n",
       "        <tr>\n",
       "            <td>Doe</td>\n",
       "        </tr>\n",
       "        <tr>\n",
       "            <td>Swamy</td>\n",
       "        </tr>\n",
       "    </tbody>\n",
       "</table>"
      ],
      "text/plain": [
       "[('Rogers',),\n",
       " ('Manikutty',),\n",
       " ('Smith',),\n",
       " ('Stevens',),\n",
       " ('Foster',),\n",
       " ('ODonnell',),\n",
       " ('Doe',),\n",
       " ('Smith',),\n",
       " ('Efron',),\n",
       " ('Goldsmith',),\n",
       " ('Doe',),\n",
       " ('Swamy',)]"
      ]
     },
     "execution_count": 19,
     "metadata": {},
     "output_type": "execute_result"
    }
   ],
   "source": [
    "%%sql\n",
    "select LastName from Employees"
   ]
  },
  {
   "cell_type": "code",
   "execution_count": 20,
   "id": "15fbd426",
   "metadata": {},
   "outputs": [
    {
     "name": "stdout",
     "output_type": "stream",
     "text": [
      " * sqlite://\n",
      "Done.\n"
     ]
    },
    {
     "data": {
      "text/html": [
       "<table>\n",
       "    <thead>\n",
       "        <tr>\n",
       "            <th>SSN</th>\n",
       "            <th>Name</th>\n",
       "            <th>LastName</th>\n",
       "            <th>Department</th>\n",
       "        </tr>\n",
       "    </thead>\n",
       "    <tbody>\n",
       "        <tr>\n",
       "            <td>222364883</td>\n",
       "            <td>Carol</td>\n",
       "            <td>Smith</td>\n",
       "            <td>37</td>\n",
       "        </tr>\n",
       "        <tr>\n",
       "            <td>631231482</td>\n",
       "            <td>David</td>\n",
       "            <td>Smith</td>\n",
       "            <td>77</td>\n",
       "        </tr>\n",
       "    </tbody>\n",
       "</table>"
      ],
      "text/plain": [
       "[(222364883, 'Carol', 'Smith', 37), (631231482, 'David', 'Smith', 77)]"
      ]
     },
     "execution_count": 20,
     "metadata": {},
     "output_type": "execute_result"
    }
   ],
   "source": [
    "%%sql\n",
    "select * from Employees where LastName = 'Smith'"
   ]
  },
  {
   "cell_type": "code",
   "execution_count": 21,
   "id": "328f6c59",
   "metadata": {},
   "outputs": [
    {
     "name": "stdout",
     "output_type": "stream",
     "text": [
      " * sqlite://\n",
      "Done.\n"
     ]
    },
    {
     "data": {
      "text/html": [
       "<table>\n",
       "    <thead>\n",
       "        <tr>\n",
       "            <th>SSN</th>\n",
       "            <th>Name</th>\n",
       "            <th>LastName</th>\n",
       "            <th>Department</th>\n",
       "        </tr>\n",
       "    </thead>\n",
       "    <tbody>\n",
       "        <tr>\n",
       "            <td>222364883</td>\n",
       "            <td>Carol</td>\n",
       "            <td>Smith</td>\n",
       "            <td>37</td>\n",
       "        </tr>\n",
       "        <tr>\n",
       "            <td>546523478</td>\n",
       "            <td>John</td>\n",
       "            <td>Doe</td>\n",
       "            <td>59</td>\n",
       "        </tr>\n",
       "        <tr>\n",
       "            <td>631231482</td>\n",
       "            <td>David</td>\n",
       "            <td>Smith</td>\n",
       "            <td>77</td>\n",
       "        </tr>\n",
       "        <tr>\n",
       "            <td>845657245</td>\n",
       "            <td>Elizabeth</td>\n",
       "            <td>Doe</td>\n",
       "            <td>14</td>\n",
       "        </tr>\n",
       "    </tbody>\n",
       "</table>"
      ],
      "text/plain": [
       "[(222364883, 'Carol', 'Smith', 37),\n",
       " (546523478, 'John', 'Doe', 59),\n",
       " (631231482, 'David', 'Smith', 77),\n",
       " (845657245, 'Elizabeth', 'Doe', 14)]"
      ]
     },
     "execution_count": 21,
     "metadata": {},
     "output_type": "execute_result"
    }
   ],
   "source": [
    "%%sql\n",
    "select * from Employees where LastName = 'Smith' or LastName = 'Doe';"
   ]
  },
  {
   "cell_type": "code",
   "execution_count": 22,
   "id": "e532a757",
   "metadata": {},
   "outputs": [
    {
     "name": "stdout",
     "output_type": "stream",
     "text": [
      " * sqlite://\n",
      "Done.\n"
     ]
    },
    {
     "data": {
      "text/html": [
       "<table>\n",
       "    <thead>\n",
       "        <tr>\n",
       "            <th>SSN</th>\n",
       "            <th>Name</th>\n",
       "            <th>LastName</th>\n",
       "            <th>Department</th>\n",
       "        </tr>\n",
       "    </thead>\n",
       "    <tbody>\n",
       "        <tr>\n",
       "            <td>123234877</td>\n",
       "            <td>Michael</td>\n",
       "            <td>Rogers</td>\n",
       "            <td>14</td>\n",
       "        </tr>\n",
       "        <tr>\n",
       "            <td>152934485</td>\n",
       "            <td>Anand</td>\n",
       "            <td>Manikutty</td>\n",
       "            <td>14</td>\n",
       "        </tr>\n",
       "        <tr>\n",
       "            <td>332154719</td>\n",
       "            <td>Mary-Anne</td>\n",
       "            <td>Foster</td>\n",
       "            <td>14</td>\n",
       "        </tr>\n",
       "        <tr>\n",
       "            <td>845657245</td>\n",
       "            <td>Elizabeth</td>\n",
       "            <td>Doe</td>\n",
       "            <td>14</td>\n",
       "        </tr>\n",
       "        <tr>\n",
       "            <td>845657246</td>\n",
       "            <td>Kumar</td>\n",
       "            <td>Swamy</td>\n",
       "            <td>14</td>\n",
       "        </tr>\n",
       "    </tbody>\n",
       "</table>"
      ],
      "text/plain": [
       "[(123234877, 'Michael', 'Rogers', 14),\n",
       " (152934485, 'Anand', 'Manikutty', 14),\n",
       " (332154719, 'Mary-Anne', 'Foster', 14),\n",
       " (845657245, 'Elizabeth', 'Doe', 14),\n",
       " (845657246, 'Kumar', 'Swamy', 14)]"
      ]
     },
     "execution_count": 22,
     "metadata": {},
     "output_type": "execute_result"
    }
   ],
   "source": [
    "%%sql\n",
    "select * from Employees where Department = 14"
   ]
  },
  {
   "cell_type": "code",
   "execution_count": 23,
   "id": "b3976fbc",
   "metadata": {},
   "outputs": [
    {
     "name": "stdout",
     "output_type": "stream",
     "text": [
      " * sqlite://\n",
      "Done.\n"
     ]
    },
    {
     "data": {
      "text/html": [
       "<table>\n",
       "    <thead>\n",
       "        <tr>\n",
       "            <th>SSN</th>\n",
       "            <th>Name</th>\n",
       "            <th>LastName</th>\n",
       "            <th>Department</th>\n",
       "        </tr>\n",
       "    </thead>\n",
       "    <tbody>\n",
       "        <tr>\n",
       "            <td>222364883</td>\n",
       "            <td>Carol</td>\n",
       "            <td>Smith</td>\n",
       "            <td>37</td>\n",
       "        </tr>\n",
       "        <tr>\n",
       "            <td>326587417</td>\n",
       "            <td>Joe</td>\n",
       "            <td>Stevens</td>\n",
       "            <td>37</td>\n",
       "        </tr>\n",
       "        <tr>\n",
       "            <td>332569843</td>\n",
       "            <td>George</td>\n",
       "            <td>ODonnell</td>\n",
       "            <td>77</td>\n",
       "        </tr>\n",
       "        <tr>\n",
       "            <td>631231482</td>\n",
       "            <td>David</td>\n",
       "            <td>Smith</td>\n",
       "            <td>77</td>\n",
       "        </tr>\n",
       "    </tbody>\n",
       "</table>"
      ],
      "text/plain": [
       "[(222364883, 'Carol', 'Smith', 37),\n",
       " (326587417, 'Joe', 'Stevens', 37),\n",
       " (332569843, 'George', 'ODonnell', 77),\n",
       " (631231482, 'David', 'Smith', 77)]"
      ]
     },
     "execution_count": 23,
     "metadata": {},
     "output_type": "execute_result"
    }
   ],
   "source": [
    "%%sql\n",
    "select * from Employees where Department = 37 or Department = 77"
   ]
  },
  {
   "cell_type": "code",
   "execution_count": 24,
   "id": "871ca8c2",
   "metadata": {},
   "outputs": [
    {
     "name": "stdout",
     "output_type": "stream",
     "text": [
      " * sqlite://\n",
      "Done.\n"
     ]
    },
    {
     "data": {
      "text/html": [
       "<table>\n",
       "    <thead>\n",
       "        <tr>\n",
       "            <th>SSN</th>\n",
       "            <th>Name</th>\n",
       "            <th>LastName</th>\n",
       "            <th>Department</th>\n",
       "        </tr>\n",
       "    </thead>\n",
       "    <tbody>\n",
       "        <tr>\n",
       "            <td>222364883</td>\n",
       "            <td>Carol</td>\n",
       "            <td>Smith</td>\n",
       "            <td>37</td>\n",
       "        </tr>\n",
       "        <tr>\n",
       "            <td>326587417</td>\n",
       "            <td>Joe</td>\n",
       "            <td>Stevens</td>\n",
       "            <td>37</td>\n",
       "        </tr>\n",
       "        <tr>\n",
       "            <td>631231482</td>\n",
       "            <td>David</td>\n",
       "            <td>Smith</td>\n",
       "            <td>77</td>\n",
       "        </tr>\n",
       "        <tr>\n",
       "            <td>845657246</td>\n",
       "            <td>Kumar</td>\n",
       "            <td>Swamy</td>\n",
       "            <td>14</td>\n",
       "        </tr>\n",
       "    </tbody>\n",
       "</table>"
      ],
      "text/plain": [
       "[(222364883, 'Carol', 'Smith', 37),\n",
       " (326587417, 'Joe', 'Stevens', 37),\n",
       " (631231482, 'David', 'Smith', 77),\n",
       " (845657246, 'Kumar', 'Swamy', 14)]"
      ]
     },
     "execution_count": 24,
     "metadata": {},
     "output_type": "execute_result"
    }
   ],
   "source": [
    "%%sql \n",
    "select * from Employees where LastName like 'S%'"
   ]
  },
  {
   "cell_type": "code",
   "execution_count": 28,
   "id": "50e5b8f5",
   "metadata": {},
   "outputs": [
    {
     "name": "stdout",
     "output_type": "stream",
     "text": [
      " * sqlite://\n",
      "Done.\n"
     ]
    },
    {
     "data": {
      "text/html": [
       "<table>\n",
       "    <thead>\n",
       "        <tr>\n",
       "            <th>Name</th>\n",
       "            <th>sum(Budget)</th>\n",
       "        </tr>\n",
       "    </thead>\n",
       "    <tbody>\n",
       "        <tr>\n",
       "            <td>Accounting</td>\n",
       "            <td>15000</td>\n",
       "        </tr>\n",
       "        <tr>\n",
       "            <td>Human Resources</td>\n",
       "            <td>240000</td>\n",
       "        </tr>\n",
       "        <tr>\n",
       "            <td>IT</td>\n",
       "            <td>65000</td>\n",
       "        </tr>\n",
       "        <tr>\n",
       "            <td>Research</td>\n",
       "            <td>55000</td>\n",
       "        </tr>\n",
       "    </tbody>\n",
       "</table>"
      ],
      "text/plain": [
       "[('Accounting', 15000),\n",
       " ('Human Resources', 240000),\n",
       " ('IT', 65000),\n",
       " ('Research', 55000)]"
      ]
     },
     "execution_count": 28,
     "metadata": {},
     "output_type": "execute_result"
    }
   ],
   "source": [
    "%%sql\n",
    "select Name, sum(Budget) from Departments\n",
    "group by Name;"
   ]
  },
  {
   "cell_type": "code",
   "execution_count": null,
   "id": "dbb6b380",
   "metadata": {},
   "outputs": [],
   "source": [
    "Select the number of employees in each department (you only need to show the department code and the number of employees)"
   ]
  },
  {
   "cell_type": "code",
   "execution_count": 31,
   "id": "70d8b407",
   "metadata": {},
   "outputs": [
    {
     "name": "stdout",
     "output_type": "stream",
     "text": [
      " * sqlite://\n",
      "Done.\n"
     ]
    },
    {
     "data": {
      "text/html": [
       "<table>\n",
       "    <thead>\n",
       "        <tr>\n",
       "            <th>Department</th>\n",
       "            <th>COUNT(*)</th>\n",
       "        </tr>\n",
       "    </thead>\n",
       "    <tbody>\n",
       "        <tr>\n",
       "            <td>14</td>\n",
       "            <td>5</td>\n",
       "        </tr>\n",
       "        <tr>\n",
       "            <td>37</td>\n",
       "            <td>2</td>\n",
       "        </tr>\n",
       "        <tr>\n",
       "            <td>59</td>\n",
       "            <td>3</td>\n",
       "        </tr>\n",
       "        <tr>\n",
       "            <td>77</td>\n",
       "            <td>2</td>\n",
       "        </tr>\n",
       "    </tbody>\n",
       "</table>"
      ],
      "text/plain": [
       "[(14, 5), (37, 2), (59, 3), (77, 2)]"
      ]
     },
     "execution_count": 31,
     "metadata": {},
     "output_type": "execute_result"
    }
   ],
   "source": [
    "%%sql\n",
    "SELECT Department, COUNT(*)\n",
    "  FROM Employees\n",
    "  GROUP BY Department;"
   ]
  },
  {
   "cell_type": "code",
   "execution_count": 33,
   "id": "bfacf1df",
   "metadata": {},
   "outputs": [
    {
     "name": "stdout",
     "output_type": "stream",
     "text": [
      " * sqlite://\n",
      "Done.\n"
     ]
    },
    {
     "data": {
      "text/html": [
       "<table>\n",
       "    <thead>\n",
       "        <tr>\n",
       "            <th>SSN</th>\n",
       "            <th>Name</th>\n",
       "            <th>LastName</th>\n",
       "            <th>Department</th>\n",
       "            <th>Code</th>\n",
       "            <th>Name_1</th>\n",
       "            <th>Budget</th>\n",
       "        </tr>\n",
       "    </thead>\n",
       "    <tbody>\n",
       "        <tr>\n",
       "            <td>123234877</td>\n",
       "            <td>Michael</td>\n",
       "            <td>Rogers</td>\n",
       "            <td>14</td>\n",
       "            <td>14</td>\n",
       "            <td>IT</td>\n",
       "            <td>65000</td>\n",
       "        </tr>\n",
       "        <tr>\n",
       "            <td>152934485</td>\n",
       "            <td>Anand</td>\n",
       "            <td>Manikutty</td>\n",
       "            <td>14</td>\n",
       "            <td>14</td>\n",
       "            <td>IT</td>\n",
       "            <td>65000</td>\n",
       "        </tr>\n",
       "        <tr>\n",
       "            <td>222364883</td>\n",
       "            <td>Carol</td>\n",
       "            <td>Smith</td>\n",
       "            <td>37</td>\n",
       "            <td>37</td>\n",
       "            <td>Accounting</td>\n",
       "            <td>15000</td>\n",
       "        </tr>\n",
       "        <tr>\n",
       "            <td>326587417</td>\n",
       "            <td>Joe</td>\n",
       "            <td>Stevens</td>\n",
       "            <td>37</td>\n",
       "            <td>37</td>\n",
       "            <td>Accounting</td>\n",
       "            <td>15000</td>\n",
       "        </tr>\n",
       "        <tr>\n",
       "            <td>332154719</td>\n",
       "            <td>Mary-Anne</td>\n",
       "            <td>Foster</td>\n",
       "            <td>14</td>\n",
       "            <td>14</td>\n",
       "            <td>IT</td>\n",
       "            <td>65000</td>\n",
       "        </tr>\n",
       "        <tr>\n",
       "            <td>332569843</td>\n",
       "            <td>George</td>\n",
       "            <td>ODonnell</td>\n",
       "            <td>77</td>\n",
       "            <td>77</td>\n",
       "            <td>Research</td>\n",
       "            <td>55000</td>\n",
       "        </tr>\n",
       "        <tr>\n",
       "            <td>546523478</td>\n",
       "            <td>John</td>\n",
       "            <td>Doe</td>\n",
       "            <td>59</td>\n",
       "            <td>59</td>\n",
       "            <td>Human Resources</td>\n",
       "            <td>240000</td>\n",
       "        </tr>\n",
       "        <tr>\n",
       "            <td>631231482</td>\n",
       "            <td>David</td>\n",
       "            <td>Smith</td>\n",
       "            <td>77</td>\n",
       "            <td>77</td>\n",
       "            <td>Research</td>\n",
       "            <td>55000</td>\n",
       "        </tr>\n",
       "        <tr>\n",
       "            <td>654873219</td>\n",
       "            <td>Zacary</td>\n",
       "            <td>Efron</td>\n",
       "            <td>59</td>\n",
       "            <td>59</td>\n",
       "            <td>Human Resources</td>\n",
       "            <td>240000</td>\n",
       "        </tr>\n",
       "        <tr>\n",
       "            <td>745685214</td>\n",
       "            <td>Eric</td>\n",
       "            <td>Goldsmith</td>\n",
       "            <td>59</td>\n",
       "            <td>59</td>\n",
       "            <td>Human Resources</td>\n",
       "            <td>240000</td>\n",
       "        </tr>\n",
       "        <tr>\n",
       "            <td>845657245</td>\n",
       "            <td>Elizabeth</td>\n",
       "            <td>Doe</td>\n",
       "            <td>14</td>\n",
       "            <td>14</td>\n",
       "            <td>IT</td>\n",
       "            <td>65000</td>\n",
       "        </tr>\n",
       "        <tr>\n",
       "            <td>845657246</td>\n",
       "            <td>Kumar</td>\n",
       "            <td>Swamy</td>\n",
       "            <td>14</td>\n",
       "            <td>14</td>\n",
       "            <td>IT</td>\n",
       "            <td>65000</td>\n",
       "        </tr>\n",
       "    </tbody>\n",
       "</table>"
      ],
      "text/plain": [
       "[(123234877, 'Michael', 'Rogers', 14, 14, 'IT', 65000),\n",
       " (152934485, 'Anand', 'Manikutty', 14, 14, 'IT', 65000),\n",
       " (222364883, 'Carol', 'Smith', 37, 37, 'Accounting', 15000),\n",
       " (326587417, 'Joe', 'Stevens', 37, 37, 'Accounting', 15000),\n",
       " (332154719, 'Mary-Anne', 'Foster', 14, 14, 'IT', 65000),\n",
       " (332569843, 'George', 'ODonnell', 77, 77, 'Research', 55000),\n",
       " (546523478, 'John', 'Doe', 59, 59, 'Human Resources', 240000),\n",
       " (631231482, 'David', 'Smith', 77, 77, 'Research', 55000),\n",
       " (654873219, 'Zacary', 'Efron', 59, 59, 'Human Resources', 240000),\n",
       " (745685214, 'Eric', 'Goldsmith', 59, 59, 'Human Resources', 240000),\n",
       " (845657245, 'Elizabeth', 'Doe', 14, 14, 'IT', 65000),\n",
       " (845657246, 'Kumar', 'Swamy', 14, 14, 'IT', 65000)]"
      ]
     },
     "execution_count": 33,
     "metadata": {},
     "output_type": "execute_result"
    }
   ],
   "source": [
    "%%sql\n",
    "select a.*, b.* from employees a join departments b on a.department = b.code;"
   ]
  },
  {
   "cell_type": "code",
   "execution_count": 34,
   "id": "1adc977c",
   "metadata": {},
   "outputs": [
    {
     "name": "stdout",
     "output_type": "stream",
     "text": [
      " * sqlite://\n",
      "Done.\n"
     ]
    },
    {
     "data": {
      "text/html": [
       "<table>\n",
       "    <thead>\n",
       "        <tr>\n",
       "            <th>Name</th>\n",
       "            <th>LastName</th>\n",
       "            <th>DepartmentsName</th>\n",
       "            <th>Budget</th>\n",
       "        </tr>\n",
       "    </thead>\n",
       "    <tbody>\n",
       "        <tr>\n",
       "            <td>Michael</td>\n",
       "            <td>Rogers</td>\n",
       "            <td>IT</td>\n",
       "            <td>65000</td>\n",
       "        </tr>\n",
       "        <tr>\n",
       "            <td>Anand</td>\n",
       "            <td>Manikutty</td>\n",
       "            <td>IT</td>\n",
       "            <td>65000</td>\n",
       "        </tr>\n",
       "        <tr>\n",
       "            <td>Carol</td>\n",
       "            <td>Smith</td>\n",
       "            <td>Accounting</td>\n",
       "            <td>15000</td>\n",
       "        </tr>\n",
       "        <tr>\n",
       "            <td>Joe</td>\n",
       "            <td>Stevens</td>\n",
       "            <td>Accounting</td>\n",
       "            <td>15000</td>\n",
       "        </tr>\n",
       "        <tr>\n",
       "            <td>Mary-Anne</td>\n",
       "            <td>Foster</td>\n",
       "            <td>IT</td>\n",
       "            <td>65000</td>\n",
       "        </tr>\n",
       "        <tr>\n",
       "            <td>George</td>\n",
       "            <td>ODonnell</td>\n",
       "            <td>Research</td>\n",
       "            <td>55000</td>\n",
       "        </tr>\n",
       "        <tr>\n",
       "            <td>John</td>\n",
       "            <td>Doe</td>\n",
       "            <td>Human Resources</td>\n",
       "            <td>240000</td>\n",
       "        </tr>\n",
       "        <tr>\n",
       "            <td>David</td>\n",
       "            <td>Smith</td>\n",
       "            <td>Research</td>\n",
       "            <td>55000</td>\n",
       "        </tr>\n",
       "        <tr>\n",
       "            <td>Zacary</td>\n",
       "            <td>Efron</td>\n",
       "            <td>Human Resources</td>\n",
       "            <td>240000</td>\n",
       "        </tr>\n",
       "        <tr>\n",
       "            <td>Eric</td>\n",
       "            <td>Goldsmith</td>\n",
       "            <td>Human Resources</td>\n",
       "            <td>240000</td>\n",
       "        </tr>\n",
       "        <tr>\n",
       "            <td>Elizabeth</td>\n",
       "            <td>Doe</td>\n",
       "            <td>IT</td>\n",
       "            <td>65000</td>\n",
       "        </tr>\n",
       "        <tr>\n",
       "            <td>Kumar</td>\n",
       "            <td>Swamy</td>\n",
       "            <td>IT</td>\n",
       "            <td>65000</td>\n",
       "        </tr>\n",
       "    </tbody>\n",
       "</table>"
      ],
      "text/plain": [
       "[('Michael', 'Rogers', 'IT', 65000),\n",
       " ('Anand', 'Manikutty', 'IT', 65000),\n",
       " ('Carol', 'Smith', 'Accounting', 15000),\n",
       " ('Joe', 'Stevens', 'Accounting', 15000),\n",
       " ('Mary-Anne', 'Foster', 'IT', 65000),\n",
       " ('George', 'ODonnell', 'Research', 55000),\n",
       " ('John', 'Doe', 'Human Resources', 240000),\n",
       " ('David', 'Smith', 'Research', 55000),\n",
       " ('Zacary', 'Efron', 'Human Resources', 240000),\n",
       " ('Eric', 'Goldsmith', 'Human Resources', 240000),\n",
       " ('Elizabeth', 'Doe', 'IT', 65000),\n",
       " ('Kumar', 'Swamy', 'IT', 65000)]"
      ]
     },
     "execution_count": 34,
     "metadata": {},
     "output_type": "execute_result"
    }
   ],
   "source": [
    "%%sql \n",
    "SELECT E.Name, LastName, D.Name AS DepartmentsName, Budget\n",
    "  FROM Employees E INNER JOIN Departments D\n",
    "  ON E.Department = D.Code;"
   ]
  },
  {
   "cell_type": "code",
   "execution_count": null,
   "id": "e347d6a6",
   "metadata": {},
   "outputs": [],
   "source": [
    "/* Select the name and last name of employees working for departments with a budget greater than $60,000.*/\n"
   ]
  },
  {
   "cell_type": "code",
   "execution_count": null,
   "id": "7d5c90e7",
   "metadata": {},
   "outputs": [],
   "source": [
    "select e.Name, e.lastname from Employees e inner join Departments d \n",
    " ON Employees.Department = Departments.Code\n",
    "    AND Departments.Budget > 60000;"
   ]
  },
  {
   "cell_type": "code",
   "execution_count": null,
   "id": "06b11529",
   "metadata": {},
   "outputs": [],
   "source": [
    "Select the departments with a budget larger than the average budget of all the departments."
   ]
  },
  {
   "cell_type": "code",
   "execution_count": 37,
   "id": "327ed87f",
   "metadata": {},
   "outputs": [
    {
     "name": "stdout",
     "output_type": "stream",
     "text": [
      " * sqlite://\n",
      "Done.\n"
     ]
    },
    {
     "data": {
      "text/html": [
       "<table>\n",
       "    <thead>\n",
       "        <tr>\n",
       "            <th>Code</th>\n",
       "            <th>Name</th>\n",
       "            <th>Budget</th>\n",
       "        </tr>\n",
       "    </thead>\n",
       "    <tbody>\n",
       "        <tr>\n",
       "            <td>59</td>\n",
       "            <td>Human Resources</td>\n",
       "            <td>240000</td>\n",
       "        </tr>\n",
       "    </tbody>\n",
       "</table>"
      ],
      "text/plain": [
       "[(59, 'Human Resources', 240000)]"
      ]
     },
     "execution_count": 37,
     "metadata": {},
     "output_type": "execute_result"
    }
   ],
   "source": [
    "%%sql\n",
    "SELECT *\n",
    "  FROM Departments\n",
    "  WHERE Budget >\n",
    "  (\n",
    "    SELECT AVG(Budget)\n",
    "    FROM Departments\n",
    "  );"
   ]
  },
  {
   "cell_type": "code",
   "execution_count": null,
   "id": "b901c462",
   "metadata": {},
   "outputs": [],
   "source": [
    " Select the names of departments with more than two employees."
   ]
  },
  {
   "cell_type": "code",
   "execution_count": 38,
   "id": "dc5a453c",
   "metadata": {},
   "outputs": [
    {
     "name": "stdout",
     "output_type": "stream",
     "text": [
      " * sqlite://\n",
      "Done.\n"
     ]
    },
    {
     "data": {
      "text/html": [
       "<table>\n",
       "    <thead>\n",
       "        <tr>\n",
       "            <th>Name</th>\n",
       "        </tr>\n",
       "    </thead>\n",
       "    <tbody>\n",
       "        <tr>\n",
       "            <td>IT</td>\n",
       "        </tr>\n",
       "        <tr>\n",
       "            <td>Human Resources</td>\n",
       "        </tr>\n",
       "    </tbody>\n",
       "</table>"
      ],
      "text/plain": [
       "[('IT',), ('Human Resources',)]"
      ]
     },
     "execution_count": 38,
     "metadata": {},
     "output_type": "execute_result"
    }
   ],
   "source": [
    "%%sql\n",
    "SELECT Name FROM Departments\n",
    "  WHERE Code IN\n",
    "  (\n",
    "    SELECT Department\n",
    "      FROM Employees\n",
    "      GROUP BY Department\n",
    "      HAVING COUNT(*) > 2\n",
    "  );\n"
   ]
  },
  {
   "cell_type": "code",
   "execution_count": 39,
   "id": "a3201740",
   "metadata": {},
   "outputs": [
    {
     "name": "stdout",
     "output_type": "stream",
     "text": [
      " * sqlite://\n",
      "Done.\n"
     ]
    },
    {
     "data": {
      "text/html": [
       "<table>\n",
       "    <thead>\n",
       "        <tr>\n",
       "            <th>Name</th>\n",
       "            <th>LastName</th>\n",
       "        </tr>\n",
       "    </thead>\n",
       "    <tbody>\n",
       "        <tr>\n",
       "            <td>George</td>\n",
       "            <td>ODonnell</td>\n",
       "        </tr>\n",
       "        <tr>\n",
       "            <td>David</td>\n",
       "            <td>Smith</td>\n",
       "        </tr>\n",
       "    </tbody>\n",
       "</table>"
      ],
      "text/plain": [
       "[('George', 'ODonnell'), ('David', 'Smith')]"
      ]
     },
     "execution_count": 39,
     "metadata": {},
     "output_type": "execute_result"
    }
   ],
   "source": [
    "%%sql\n",
    "select name, lastname\n",
    "from employees\n",
    "where department =(\n",
    "select temp.code \n",
    "from (select * from departments order by budget limit 2) temp\n",
    "order by temp.budget desc limit 1\n",
    ");\n"
   ]
  },
  {
   "cell_type": "code",
   "execution_count": 40,
   "id": "5bf12540",
   "metadata": {},
   "outputs": [
    {
     "name": "stdout",
     "output_type": "stream",
     "text": [
      " * sqlite://\n",
      "1 rows affected.\n",
      "1 rows affected.\n"
     ]
    },
    {
     "data": {
      "text/plain": [
       "[]"
      ]
     },
     "execution_count": 40,
     "metadata": {},
     "output_type": "execute_result"
    }
   ],
   "source": [
    "%%sql\n",
    "insert into departments values(11, 'Quality Assurance', 40000);\n",
    "insert into employees values(847219811, 'Mary', 'Moore', 11);\n"
   ]
  },
  {
   "cell_type": "code",
   "execution_count": 41,
   "id": "60fe0cbd",
   "metadata": {},
   "outputs": [
    {
     "name": "stdout",
     "output_type": "stream",
     "text": [
      " * sqlite://\n",
      "5 rows affected.\n"
     ]
    },
    {
     "data": {
      "text/plain": [
       "[]"
      ]
     },
     "execution_count": 41,
     "metadata": {},
     "output_type": "execute_result"
    }
   ],
   "source": [
    "%%sql\n",
    "update departments \n",
    "set budget = 0.9 * budget;"
   ]
  },
  {
   "cell_type": "code",
   "execution_count": 42,
   "id": "e6793222",
   "metadata": {},
   "outputs": [
    {
     "name": "stdout",
     "output_type": "stream",
     "text": [
      " * sqlite://\n",
      "2 rows affected.\n"
     ]
    },
    {
     "data": {
      "text/plain": [
       "[]"
      ]
     },
     "execution_count": 42,
     "metadata": {},
     "output_type": "execute_result"
    }
   ],
   "source": [
    "%%sql\n",
    "update employees\n",
    "set department = 14\n",
    "where department = 77;\n"
   ]
  },
  {
   "cell_type": "code",
   "execution_count": 43,
   "id": "b9608872",
   "metadata": {},
   "outputs": [
    {
     "name": "stdout",
     "output_type": "stream",
     "text": [
      " * sqlite://\n",
      "7 rows affected.\n"
     ]
    },
    {
     "data": {
      "text/plain": [
       "[]"
      ]
     },
     "execution_count": 43,
     "metadata": {},
     "output_type": "execute_result"
    }
   ],
   "source": [
    "%%sql \n",
    "delete from employees\n",
    "where department = 14;"
   ]
  },
  {
   "cell_type": "code",
   "execution_count": 44,
   "id": "df49cd2b",
   "metadata": {},
   "outputs": [
    {
     "name": "stdout",
     "output_type": "stream",
     "text": [
      " * sqlite://\n",
      "3 rows affected.\n"
     ]
    },
    {
     "data": {
      "text/plain": [
       "[]"
      ]
     },
     "execution_count": 44,
     "metadata": {},
     "output_type": "execute_result"
    }
   ],
   "source": [
    "%%sql\n",
    "delete from employees\n",
    "where department in (\n",
    "select code \n",
    "from departments\n",
    "where budget>=60000\n",
    ");"
   ]
  },
  {
   "cell_type": "code",
   "execution_count": 45,
   "id": "9c9dc714",
   "metadata": {},
   "outputs": [
    {
     "name": "stdout",
     "output_type": "stream",
     "text": [
      " * sqlite://\n",
      "3 rows affected.\n"
     ]
    },
    {
     "data": {
      "text/plain": [
       "[]"
      ]
     },
     "execution_count": 45,
     "metadata": {},
     "output_type": "execute_result"
    }
   ],
   "source": [
    "%%sql\n",
    "delete from employees;"
   ]
  },
  {
   "cell_type": "code",
   "execution_count": 47,
   "id": "c9aa878c",
   "metadata": {},
   "outputs": [
    {
     "name": "stdout",
     "output_type": "stream",
     "text": [
      " * sqlite://\n",
      "Done.\n"
     ]
    },
    {
     "data": {
      "text/html": [
       "<table>\n",
       "    <thead>\n",
       "        <tr>\n",
       "            <th>SSN</th>\n",
       "            <th>Name</th>\n",
       "            <th>LastName</th>\n",
       "            <th>Department</th>\n",
       "        </tr>\n",
       "    </thead>\n",
       "    <tbody>\n",
       "    </tbody>\n",
       "</table>"
      ],
      "text/plain": [
       "[]"
      ]
     },
     "execution_count": 47,
     "metadata": {},
     "output_type": "execute_result"
    }
   ],
   "source": [
    "%%sql\n",
    "select * from employees;"
   ]
  },
  {
   "cell_type": "code",
   "execution_count": null,
   "id": "e2a772a5",
   "metadata": {},
   "outputs": [],
   "source": []
  }
 ],
 "metadata": {
  "kernelspec": {
   "display_name": "Python 3 (ipykernel)",
   "language": "python",
   "name": "python3"
  },
  "language_info": {
   "codemirror_mode": {
    "name": "ipython",
    "version": 3
   },
   "file_extension": ".py",
   "mimetype": "text/x-python",
   "name": "python",
   "nbconvert_exporter": "python",
   "pygments_lexer": "ipython3",
   "version": "3.10.9"
  }
 },
 "nbformat": 4,
 "nbformat_minor": 5
}

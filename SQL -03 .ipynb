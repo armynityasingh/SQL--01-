{
 "cells": [
  {
   "cell_type": "code",
   "execution_count": 1,
   "id": "2674dde5",
   "metadata": {},
   "outputs": [
    {
     "name": "stderr",
     "output_type": "stream",
     "text": [
      "UsageError: Cell magic `%%sql` not found.\n"
     ]
    }
   ],
   "source": []
  },
  {
   "cell_type": "code",
   "execution_count": 2,
   "id": "a3709347",
   "metadata": {},
   "outputs": [],
   "source": [
    "%load_ext sql"
   ]
  },
  {
   "cell_type": "code",
   "execution_count": 3,
   "id": "7c1f4fe8",
   "metadata": {},
   "outputs": [],
   "source": [
    "%sql sqlite://"
   ]
  },
  {
   "cell_type": "code",
   "execution_count": 4,
   "id": "8afba2bd",
   "metadata": {},
   "outputs": [
    {
     "data": {
      "text/plain": [
       "['Requirement already satisfied: ipython-sql in c:\\\\users\\\\asus\\\\anacondadetails\\\\lib\\\\site-packages (0.5.0)',\n",
       " 'Requirement already satisfied: ipython-genutils in c:\\\\users\\\\asus\\\\anacondadetails\\\\lib\\\\site-packages (from ipython-sql) (0.2.0)',\n",
       " 'Requirement already satisfied: sqlalchemy>=2.0 in c:\\\\users\\\\asus\\\\anacondadetails\\\\lib\\\\site-packages (from ipython-sql) (2.0.19)',\n",
       " 'Requirement already satisfied: ipython in c:\\\\users\\\\asus\\\\anacondadetails\\\\lib\\\\site-packages (from ipython-sql) (8.10.0)',\n",
       " 'Requirement already satisfied: sqlparse in c:\\\\users\\\\asus\\\\anacondadetails\\\\lib\\\\site-packages (from ipython-sql) (0.4.4)',\n",
       " 'Requirement already satisfied: six in c:\\\\users\\\\asus\\\\anacondadetails\\\\lib\\\\site-packages (from ipython-sql) (1.16.0)',\n",
       " 'Requirement already satisfied: prettytable in c:\\\\users\\\\asus\\\\anacondadetails\\\\lib\\\\site-packages (from ipython-sql) (3.8.0)',\n",
       " 'Requirement already satisfied: greenlet!=0.4.17 in c:\\\\users\\\\asus\\\\anacondadetails\\\\lib\\\\site-packages (from sqlalchemy>=2.0->ipython-sql) (2.0.1)',\n",
       " 'Requirement already satisfied: typing-extensions>=4.2.0 in c:\\\\users\\\\asus\\\\anacondadetails\\\\lib\\\\site-packages (from sqlalchemy>=2.0->ipython-sql) (4.4.0)',\n",
       " 'Requirement already satisfied: prompt-toolkit<3.1.0,>=3.0.30 in c:\\\\users\\\\asus\\\\anacondadetails\\\\lib\\\\site-packages (from ipython->ipython-sql) (3.0.36)',\n",
       " 'Requirement already satisfied: matplotlib-inline in c:\\\\users\\\\asus\\\\anacondadetails\\\\lib\\\\site-packages (from ipython->ipython-sql) (0.1.6)',\n",
       " 'Requirement already satisfied: backcall in c:\\\\users\\\\asus\\\\anacondadetails\\\\lib\\\\site-packages (from ipython->ipython-sql) (0.2.0)',\n",
       " 'Requirement already satisfied: colorama in c:\\\\users\\\\asus\\\\anacondadetails\\\\lib\\\\site-packages (from ipython->ipython-sql) (0.4.6)',\n",
       " 'Requirement already satisfied: decorator in c:\\\\users\\\\asus\\\\anacondadetails\\\\lib\\\\site-packages (from ipython->ipython-sql) (5.1.1)',\n",
       " 'Requirement already satisfied: pygments>=2.4.0 in c:\\\\users\\\\asus\\\\anacondadetails\\\\lib\\\\site-packages (from ipython->ipython-sql) (2.11.2)',\n",
       " 'Requirement already satisfied: pickleshare in c:\\\\users\\\\asus\\\\anacondadetails\\\\lib\\\\site-packages (from ipython->ipython-sql) (0.7.5)',\n",
       " 'Requirement already satisfied: stack-data in c:\\\\users\\\\asus\\\\anacondadetails\\\\lib\\\\site-packages (from ipython->ipython-sql) (0.2.0)',\n",
       " 'Requirement already satisfied: jedi>=0.16 in c:\\\\users\\\\asus\\\\anacondadetails\\\\lib\\\\site-packages (from ipython->ipython-sql) (0.18.1)',\n",
       " 'Requirement already satisfied: traitlets>=5 in c:\\\\users\\\\asus\\\\anacondadetails\\\\lib\\\\site-packages (from ipython->ipython-sql) (5.7.1)',\n",
       " 'Requirement already satisfied: wcwidth in c:\\\\users\\\\asus\\\\anacondadetails\\\\lib\\\\site-packages (from prettytable->ipython-sql) (0.2.5)',\n",
       " 'Requirement already satisfied: parso<0.9.0,>=0.8.0 in c:\\\\users\\\\asus\\\\anacondadetails\\\\lib\\\\site-packages (from jedi>=0.16->ipython->ipython-sql) (0.8.3)',\n",
       " 'Requirement already satisfied: pure-eval in c:\\\\users\\\\asus\\\\anacondadetails\\\\lib\\\\site-packages (from stack-data->ipython->ipython-sql) (0.2.2)',\n",
       " 'Requirement already satisfied: asttokens in c:\\\\users\\\\asus\\\\anacondadetails\\\\lib\\\\site-packages (from stack-data->ipython->ipython-sql) (2.0.5)',\n",
       " 'Requirement already satisfied: executing in c:\\\\users\\\\asus\\\\anacondadetails\\\\lib\\\\site-packages (from stack-data->ipython->ipython-sql) (0.8.3)']"
      ]
     },
     "execution_count": 4,
     "metadata": {},
     "output_type": "execute_result"
    }
   ],
   "source": [
    "%%!\n",
    "pip install --trusted-host pypi.org ipython-sql"
   ]
  },
  {
   "cell_type": "code",
   "execution_count": 5,
   "id": "226d7f7f",
   "metadata": {},
   "outputs": [],
   "source": [
    "import pandas as pd\n",
    "import sqlite3"
   ]
  },
  {
   "cell_type": "code",
   "execution_count": 6,
   "id": "de53e9d7",
   "metadata": {},
   "outputs": [
    {
     "name": "stdout",
     "output_type": "stream",
     "text": [
      " * sqlite://\n",
      "Done.\n"
     ]
    },
    {
     "data": {
      "text/plain": [
       "[]"
      ]
     },
     "execution_count": 6,
     "metadata": {},
     "output_type": "execute_result"
    }
   ],
   "source": [
    "%%sql \n",
    "CREATE TABLE Warehouses (\n",
    "   Code INTEGER NOT NULL,\n",
    "   Location VARCHAR(255) NOT NULL ,\n",
    "   Capacity INTEGER NOT NULL,\n",
    "   PRIMARY KEY (Code)\n",
    " );"
   ]
  },
  {
   "cell_type": "code",
   "execution_count": 7,
   "id": "409b9974",
   "metadata": {},
   "outputs": [
    {
     "name": "stdout",
     "output_type": "stream",
     "text": [
      " * sqlite://\n",
      "Done.\n"
     ]
    },
    {
     "data": {
      "text/plain": [
       "[]"
      ]
     },
     "execution_count": 7,
     "metadata": {},
     "output_type": "execute_result"
    }
   ],
   "source": [
    "%%sql\n",
    "CREATE TABLE Boxes (\n",
    "    Code CHAR(4) NOT NULL,\n",
    "    Contents VARCHAR(255) NOT NULL ,\n",
    "    Value REAL NOT NULL ,\n",
    "    Warehouse INTEGER NOT NULL,\n",
    "    PRIMARY KEY (Code),\n",
    "    FOREIGN KEY (Warehouse) REFERENCES Warehouses(Code)\n",
    " )"
   ]
  },
  {
   "cell_type": "code",
   "execution_count": 8,
   "id": "cb378bf1",
   "metadata": {},
   "outputs": [
    {
     "name": "stdout",
     "output_type": "stream",
     "text": [
      " * sqlite://\n",
      "1 rows affected.\n",
      "1 rows affected.\n",
      "1 rows affected.\n",
      "1 rows affected.\n",
      "1 rows affected.\n"
     ]
    },
    {
     "data": {
      "text/plain": [
       "[]"
      ]
     },
     "execution_count": 8,
     "metadata": {},
     "output_type": "execute_result"
    }
   ],
   "source": [
    "%%sql\n",
    "INSERT INTO Warehouses(Code,Location,Capacity) VALUES(1,'Chicago',3);\n",
    " INSERT INTO Warehouses(Code,Location,Capacity) VALUES(2,'Chicago',4);\n",
    " INSERT INTO Warehouses(Code,Location,Capacity) VALUES(3,'New York',7);\n",
    " INSERT INTO Warehouses(Code,Location,Capacity) VALUES(4,'Los Angeles',2);\n",
    " INSERT INTO Warehouses(Code,Location,Capacity) VALUES(5,'San Francisco',8);"
   ]
  },
  {
   "cell_type": "code",
   "execution_count": 11,
   "id": "cca5d71f",
   "metadata": {},
   "outputs": [
    {
     "name": "stdout",
     "output_type": "stream",
     "text": [
      " * sqlite://\n",
      "Done.\n"
     ]
    },
    {
     "data": {
      "text/html": [
       "<table>\n",
       "    <thead>\n",
       "        <tr>\n",
       "            <th>Code</th>\n",
       "            <th>Location</th>\n",
       "            <th>Capacity</th>\n",
       "        </tr>\n",
       "    </thead>\n",
       "    <tbody>\n",
       "        <tr>\n",
       "            <td>1</td>\n",
       "            <td>Chicago</td>\n",
       "            <td>3</td>\n",
       "        </tr>\n",
       "        <tr>\n",
       "            <td>2</td>\n",
       "            <td>Chicago</td>\n",
       "            <td>4</td>\n",
       "        </tr>\n",
       "        <tr>\n",
       "            <td>3</td>\n",
       "            <td>New York</td>\n",
       "            <td>7</td>\n",
       "        </tr>\n",
       "        <tr>\n",
       "            <td>4</td>\n",
       "            <td>Los Angeles</td>\n",
       "            <td>2</td>\n",
       "        </tr>\n",
       "        <tr>\n",
       "            <td>5</td>\n",
       "            <td>San Francisco</td>\n",
       "            <td>8</td>\n",
       "        </tr>\n",
       "    </tbody>\n",
       "</table>"
      ],
      "text/plain": [
       "[(1, 'Chicago', 3),\n",
       " (2, 'Chicago', 4),\n",
       " (3, 'New York', 7),\n",
       " (4, 'Los Angeles', 2),\n",
       " (5, 'San Francisco', 8)]"
      ]
     },
     "execution_count": 11,
     "metadata": {},
     "output_type": "execute_result"
    }
   ],
   "source": [
    "%%sql\n",
    "select * from Warehouses;"
   ]
  },
  {
   "cell_type": "code",
   "execution_count": null,
   "id": "73db763c",
   "metadata": {},
   "outputs": [],
   "source": [
    "--3.1 Select all warehouses.\n",
    "--3.2 Select all boxes with a value larger than $150.\n",
    "--3.3 Select all distinct contents in all the boxes.\n",
    "--3.4 Select the average value of all the boxes.\n",
    "--3.5 Select the warehouse code and the average value of the boxes in each warehouse.\n",
    "--3.6 Same as previous exercise, but select only those warehouses where the average value of the boxes is greater than 150.\n",
    "--3.7 Select the code of each box, along with the name of the city the box is located in.\n",
    "--3.8 Select the warehouse codes, along with the number of boxes in each warehouse. \n",
    "    -- Optionally, take into account that some warehouses are empty (i.e., the box count should show up as zero, instead of omitting the warehouse from the result).\n",
    "--3.9 Select the codes of all warehouses that are saturated (a warehouse is saturated if the number of boxes in it is larger than the warehouse's capacity).\n",
    "--3.10 Select the codes of all the boxes located in Chicago.\n",
    "--3.11 Create a new warehouse in New York with a capacity for 3 boxes.\n",
    "--3.12 Create a new box, with code \"H5RT\", containing \"Papers\" with a value of $200, and located in warehouse 2.\n",
    "--3.13 Reduce the value of all boxes by 15%.\n",
    "--3.14 Remove all boxes with a value lower than $100.\n",
    "-- 3.15 Remove all boxes from saturated warehouses.\n",
    "-- 3.16 Add Index for column \"Warehouse\" in table \"boxes\"\n",
    "    -- !!!NOTE!!!: index should NOT be used on small tables in practice\n",
    "-- 3.17 Print all the existing indexes\n",
    "    -- !!!NOTE!!!: index should NOT be used on small tables in practice\n",
    "-- 3.18 Remove (drop) the index you added just\n",
    "    -- !!!NOTE!!!: index should NOT be used on small tables in practice"
   ]
  },
  {
   "cell_type": "code",
   "execution_count": 9,
   "id": "b9781ceb",
   "metadata": {},
   "outputs": [
    {
     "name": "stdout",
     "output_type": "stream",
     "text": [
      " * sqlite://\n",
      "1 rows affected.\n",
      "1 rows affected.\n",
      "1 rows affected.\n",
      "1 rows affected.\n",
      "1 rows affected.\n",
      "1 rows affected.\n",
      "1 rows affected.\n",
      "1 rows affected.\n",
      "1 rows affected.\n",
      "1 rows affected.\n",
      "1 rows affected.\n"
     ]
    },
    {
     "data": {
      "text/plain": [
       "[]"
      ]
     },
     "execution_count": 9,
     "metadata": {},
     "output_type": "execute_result"
    }
   ],
   "source": [
    "%%sql\n",
    " INSERT INTO Boxes(Code,Contents,Value,Warehouse) VALUES('0MN7','Rocks',180,3);\n",
    " INSERT INTO Boxes(Code,Contents,Value,Warehouse) VALUES('4H8P','Rocks',250,1);\n",
    " INSERT INTO Boxes(Code,Contents,Value,Warehouse) VALUES('4RT3','Scissors',190,4);\n",
    " INSERT INTO Boxes(Code,Contents,Value,Warehouse) VALUES('7G3H','Rocks',200,1);\n",
    " INSERT INTO Boxes(Code,Contents,Value,Warehouse) VALUES('8JN6','Papers',75,1);\n",
    " INSERT INTO Boxes(Code,Contents,Value,Warehouse) VALUES('8Y6U','Papers',50,3);\n",
    " INSERT INTO Boxes(Code,Contents,Value,Warehouse) VALUES('9J6F','Papers',175,2);\n",
    " INSERT INTO Boxes(Code,Contents,Value,Warehouse) VALUES('LL08','Rocks',140,4);\n",
    " INSERT INTO Boxes(Code,Contents,Value,Warehouse) VALUES('P0H6','Scissors',125,1);\n",
    " INSERT INTO Boxes(Code,Contents,Value,Warehouse) VALUES('P2T6','Scissors',150,2);\n",
    " INSERT INTO Boxes(Code,Contents,Value,Warehouse) VALUES('TU55','Papers',90,5);"
   ]
  },
  {
   "cell_type": "code",
   "execution_count": 20,
   "id": "36e55ea9",
   "metadata": {},
   "outputs": [
    {
     "name": "stdout",
     "output_type": "stream",
     "text": [
      " * sqlite://\n",
      "Done.\n"
     ]
    },
    {
     "data": {
      "text/html": [
       "<table>\n",
       "    <thead>\n",
       "        <tr>\n",
       "            <th>Code</th>\n",
       "            <th>Location</th>\n",
       "            <th>Capacity</th>\n",
       "        </tr>\n",
       "    </thead>\n",
       "    <tbody>\n",
       "        <tr>\n",
       "            <td>1</td>\n",
       "            <td>Chicago</td>\n",
       "            <td>3</td>\n",
       "        </tr>\n",
       "        <tr>\n",
       "            <td>2</td>\n",
       "            <td>Chicago</td>\n",
       "            <td>4</td>\n",
       "        </tr>\n",
       "        <tr>\n",
       "            <td>3</td>\n",
       "            <td>New York</td>\n",
       "            <td>7</td>\n",
       "        </tr>\n",
       "        <tr>\n",
       "            <td>4</td>\n",
       "            <td>Los Angeles</td>\n",
       "            <td>2</td>\n",
       "        </tr>\n",
       "        <tr>\n",
       "            <td>5</td>\n",
       "            <td>San Francisco</td>\n",
       "            <td>8</td>\n",
       "        </tr>\n",
       "    </tbody>\n",
       "</table>"
      ],
      "text/plain": [
       "[(1, 'Chicago', 3),\n",
       " (2, 'Chicago', 4),\n",
       " (3, 'New York', 7),\n",
       " (4, 'Los Angeles', 2),\n",
       " (5, 'San Francisco', 8)]"
      ]
     },
     "execution_count": 20,
     "metadata": {},
     "output_type": "execute_result"
    }
   ],
   "source": [
    "%%sql\n",
    "select * from Warehouses;"
   ]
  },
  {
   "cell_type": "code",
   "execution_count": 21,
   "id": "3ab354e5",
   "metadata": {},
   "outputs": [
    {
     "name": "stdout",
     "output_type": "stream",
     "text": [
      " * sqlite://\n",
      "Done.\n"
     ]
    },
    {
     "data": {
      "text/html": [
       "<table>\n",
       "    <thead>\n",
       "        <tr>\n",
       "            <th>Code</th>\n",
       "            <th>Contents</th>\n",
       "            <th>Value</th>\n",
       "            <th>Warehouse</th>\n",
       "        </tr>\n",
       "    </thead>\n",
       "    <tbody>\n",
       "        <tr>\n",
       "            <td>0MN7</td>\n",
       "            <td>Rocks</td>\n",
       "            <td>180.0</td>\n",
       "            <td>3</td>\n",
       "        </tr>\n",
       "        <tr>\n",
       "            <td>4H8P</td>\n",
       "            <td>Rocks</td>\n",
       "            <td>250.0</td>\n",
       "            <td>1</td>\n",
       "        </tr>\n",
       "        <tr>\n",
       "            <td>4RT3</td>\n",
       "            <td>Scissors</td>\n",
       "            <td>190.0</td>\n",
       "            <td>4</td>\n",
       "        </tr>\n",
       "        <tr>\n",
       "            <td>7G3H</td>\n",
       "            <td>Rocks</td>\n",
       "            <td>200.0</td>\n",
       "            <td>1</td>\n",
       "        </tr>\n",
       "        <tr>\n",
       "            <td>8JN6</td>\n",
       "            <td>Papers</td>\n",
       "            <td>75.0</td>\n",
       "            <td>1</td>\n",
       "        </tr>\n",
       "        <tr>\n",
       "            <td>8Y6U</td>\n",
       "            <td>Papers</td>\n",
       "            <td>50.0</td>\n",
       "            <td>3</td>\n",
       "        </tr>\n",
       "        <tr>\n",
       "            <td>9J6F</td>\n",
       "            <td>Papers</td>\n",
       "            <td>175.0</td>\n",
       "            <td>2</td>\n",
       "        </tr>\n",
       "        <tr>\n",
       "            <td>LL08</td>\n",
       "            <td>Rocks</td>\n",
       "            <td>140.0</td>\n",
       "            <td>4</td>\n",
       "        </tr>\n",
       "        <tr>\n",
       "            <td>P0H6</td>\n",
       "            <td>Scissors</td>\n",
       "            <td>125.0</td>\n",
       "            <td>1</td>\n",
       "        </tr>\n",
       "        <tr>\n",
       "            <td>P2T6</td>\n",
       "            <td>Scissors</td>\n",
       "            <td>150.0</td>\n",
       "            <td>2</td>\n",
       "        </tr>\n",
       "        <tr>\n",
       "            <td>TU55</td>\n",
       "            <td>Papers</td>\n",
       "            <td>90.0</td>\n",
       "            <td>5</td>\n",
       "        </tr>\n",
       "    </tbody>\n",
       "</table>"
      ],
      "text/plain": [
       "[('0MN7', 'Rocks', 180.0, 3),\n",
       " ('4H8P', 'Rocks', 250.0, 1),\n",
       " ('4RT3', 'Scissors', 190.0, 4),\n",
       " ('7G3H', 'Rocks', 200.0, 1),\n",
       " ('8JN6', 'Papers', 75.0, 1),\n",
       " ('8Y6U', 'Papers', 50.0, 3),\n",
       " ('9J6F', 'Papers', 175.0, 2),\n",
       " ('LL08', 'Rocks', 140.0, 4),\n",
       " ('P0H6', 'Scissors', 125.0, 1),\n",
       " ('P2T6', 'Scissors', 150.0, 2),\n",
       " ('TU55', 'Papers', 90.0, 5)]"
      ]
     },
     "execution_count": 21,
     "metadata": {},
     "output_type": "execute_result"
    }
   ],
   "source": [
    "%%sql\n",
    "select * from Boxes"
   ]
  },
  {
   "cell_type": "code",
   "execution_count": 13,
   "id": "ed68d30f",
   "metadata": {},
   "outputs": [
    {
     "name": "stdout",
     "output_type": "stream",
     "text": [
      " * sqlite://\n",
      "Done.\n"
     ]
    },
    {
     "data": {
      "text/html": [
       "<table>\n",
       "    <thead>\n",
       "        <tr>\n",
       "            <th>Code</th>\n",
       "            <th>Contents</th>\n",
       "            <th>Value</th>\n",
       "            <th>Warehouse</th>\n",
       "        </tr>\n",
       "    </thead>\n",
       "    <tbody>\n",
       "        <tr>\n",
       "            <td>0MN7</td>\n",
       "            <td>Rocks</td>\n",
       "            <td>180.0</td>\n",
       "            <td>3</td>\n",
       "        </tr>\n",
       "        <tr>\n",
       "            <td>4H8P</td>\n",
       "            <td>Rocks</td>\n",
       "            <td>250.0</td>\n",
       "            <td>1</td>\n",
       "        </tr>\n",
       "        <tr>\n",
       "            <td>4RT3</td>\n",
       "            <td>Scissors</td>\n",
       "            <td>190.0</td>\n",
       "            <td>4</td>\n",
       "        </tr>\n",
       "        <tr>\n",
       "            <td>7G3H</td>\n",
       "            <td>Rocks</td>\n",
       "            <td>200.0</td>\n",
       "            <td>1</td>\n",
       "        </tr>\n",
       "        <tr>\n",
       "            <td>9J6F</td>\n",
       "            <td>Papers</td>\n",
       "            <td>175.0</td>\n",
       "            <td>2</td>\n",
       "        </tr>\n",
       "    </tbody>\n",
       "</table>"
      ],
      "text/plain": [
       "[('0MN7', 'Rocks', 180.0, 3),\n",
       " ('4H8P', 'Rocks', 250.0, 1),\n",
       " ('4RT3', 'Scissors', 190.0, 4),\n",
       " ('7G3H', 'Rocks', 200.0, 1),\n",
       " ('9J6F', 'Papers', 175.0, 2)]"
      ]
     },
     "execution_count": 13,
     "metadata": {},
     "output_type": "execute_result"
    }
   ],
   "source": [
    "%%sql\n",
    "select * from Boxes where value > 150;"
   ]
  },
  {
   "cell_type": "code",
   "execution_count": 14,
   "id": "4526b0d2",
   "metadata": {},
   "outputs": [
    {
     "name": "stdout",
     "output_type": "stream",
     "text": [
      " * sqlite://\n",
      "Done.\n"
     ]
    },
    {
     "data": {
      "text/html": [
       "<table>\n",
       "    <thead>\n",
       "        <tr>\n",
       "            <th>Contents</th>\n",
       "        </tr>\n",
       "    </thead>\n",
       "    <tbody>\n",
       "        <tr>\n",
       "            <td>Rocks</td>\n",
       "        </tr>\n",
       "        <tr>\n",
       "            <td>Scissors</td>\n",
       "        </tr>\n",
       "        <tr>\n",
       "            <td>Papers</td>\n",
       "        </tr>\n",
       "    </tbody>\n",
       "</table>"
      ],
      "text/plain": [
       "[('Rocks',), ('Scissors',), ('Papers',)]"
      ]
     },
     "execution_count": 14,
     "metadata": {},
     "output_type": "execute_result"
    }
   ],
   "source": [
    "%%sql\n",
    "select distinct Contents from Boxes;"
   ]
  },
  {
   "cell_type": "code",
   "execution_count": 15,
   "id": "a6d36678",
   "metadata": {},
   "outputs": [
    {
     "name": "stdout",
     "output_type": "stream",
     "text": [
      " * sqlite://\n",
      "Done.\n"
     ]
    },
    {
     "data": {
      "text/html": [
       "<table>\n",
       "    <thead>\n",
       "        <tr>\n",
       "            <th>avg(value)</th>\n",
       "        </tr>\n",
       "    </thead>\n",
       "    <tbody>\n",
       "        <tr>\n",
       "            <td>147.72727272727272</td>\n",
       "        </tr>\n",
       "    </tbody>\n",
       "</table>"
      ],
      "text/plain": [
       "[(147.72727272727272,)]"
      ]
     },
     "execution_count": 15,
     "metadata": {},
     "output_type": "execute_result"
    }
   ],
   "source": [
    "%%sql\n",
    "select avg(value) from Boxes;"
   ]
  },
  {
   "cell_type": "code",
   "execution_count": 19,
   "id": "6bdb7cd2",
   "metadata": {},
   "outputs": [
    {
     "name": "stdout",
     "output_type": "stream",
     "text": [
      " * sqlite://\n",
      "Done.\n"
     ]
    },
    {
     "data": {
      "text/html": [
       "<table>\n",
       "    <thead>\n",
       "        <tr>\n",
       "            <th>Warehouse</th>\n",
       "            <th>avg(value)</th>\n",
       "        </tr>\n",
       "    </thead>\n",
       "    <tbody>\n",
       "        <tr>\n",
       "            <td>1</td>\n",
       "            <td>162.5</td>\n",
       "        </tr>\n",
       "        <tr>\n",
       "            <td>2</td>\n",
       "            <td>162.5</td>\n",
       "        </tr>\n",
       "        <tr>\n",
       "            <td>3</td>\n",
       "            <td>115.0</td>\n",
       "        </tr>\n",
       "        <tr>\n",
       "            <td>4</td>\n",
       "            <td>165.0</td>\n",
       "        </tr>\n",
       "        <tr>\n",
       "            <td>5</td>\n",
       "            <td>90.0</td>\n",
       "        </tr>\n",
       "    </tbody>\n",
       "</table>"
      ],
      "text/plain": [
       "[(1, 162.5), (2, 162.5), (3, 115.0), (4, 165.0), (5, 90.0)]"
      ]
     },
     "execution_count": 19,
     "metadata": {},
     "output_type": "execute_result"
    }
   ],
   "source": [
    "\n",
    "\n",
    "%%sql\n",
    "select Warehouse, avg(value) from Boxes \n",
    "group by Warehouse"
   ]
  },
  {
   "cell_type": "code",
   "execution_count": 25,
   "id": "eb05ca6b",
   "metadata": {},
   "outputs": [
    {
     "name": "stdout",
     "output_type": "stream",
     "text": [
      " * sqlite://\n",
      "Done.\n"
     ]
    },
    {
     "data": {
      "text/html": [
       "<table>\n",
       "    <thead>\n",
       "        <tr>\n",
       "            <th>Warehouse</th>\n",
       "            <th>avg(value)</th>\n",
       "        </tr>\n",
       "    </thead>\n",
       "    <tbody>\n",
       "        <tr>\n",
       "            <td>1</td>\n",
       "            <td>162.5</td>\n",
       "        </tr>\n",
       "        <tr>\n",
       "            <td>2</td>\n",
       "            <td>162.5</td>\n",
       "        </tr>\n",
       "        <tr>\n",
       "            <td>4</td>\n",
       "            <td>165.0</td>\n",
       "        </tr>\n",
       "    </tbody>\n",
       "</table>"
      ],
      "text/plain": [
       "[(1, 162.5), (2, 162.5), (4, 165.0)]"
      ]
     },
     "execution_count": 25,
     "metadata": {},
     "output_type": "execute_result"
    }
   ],
   "source": [
    "%%sql\n",
    "select Warehouse, avg(value) from Boxes\n",
    "Group By Warehouse\n",
    "Having avg(Value)>150\n",
    ";"
   ]
  },
  {
   "cell_type": "code",
   "execution_count": 31,
   "id": "0720ecca",
   "metadata": {},
   "outputs": [
    {
     "name": "stdout",
     "output_type": "stream",
     "text": [
      " * sqlite://\n",
      "Done.\n"
     ]
    },
    {
     "data": {
      "text/html": [
       "<table>\n",
       "    <thead>\n",
       "        <tr>\n",
       "            <th>Code</th>\n",
       "            <th>Location</th>\n",
       "        </tr>\n",
       "    </thead>\n",
       "    <tbody>\n",
       "        <tr>\n",
       "            <td>0MN7</td>\n",
       "            <td>New York</td>\n",
       "        </tr>\n",
       "        <tr>\n",
       "            <td>4H8P</td>\n",
       "            <td>Chicago</td>\n",
       "        </tr>\n",
       "        <tr>\n",
       "            <td>4RT3</td>\n",
       "            <td>Los Angeles</td>\n",
       "        </tr>\n",
       "        <tr>\n",
       "            <td>7G3H</td>\n",
       "            <td>Chicago</td>\n",
       "        </tr>\n",
       "        <tr>\n",
       "            <td>8JN6</td>\n",
       "            <td>Chicago</td>\n",
       "        </tr>\n",
       "        <tr>\n",
       "            <td>8Y6U</td>\n",
       "            <td>New York</td>\n",
       "        </tr>\n",
       "        <tr>\n",
       "            <td>9J6F</td>\n",
       "            <td>Chicago</td>\n",
       "        </tr>\n",
       "        <tr>\n",
       "            <td>LL08</td>\n",
       "            <td>Los Angeles</td>\n",
       "        </tr>\n",
       "        <tr>\n",
       "            <td>P0H6</td>\n",
       "            <td>Chicago</td>\n",
       "        </tr>\n",
       "        <tr>\n",
       "            <td>P2T6</td>\n",
       "            <td>Chicago</td>\n",
       "        </tr>\n",
       "        <tr>\n",
       "            <td>TU55</td>\n",
       "            <td>San Francisco</td>\n",
       "        </tr>\n",
       "    </tbody>\n",
       "</table>"
      ],
      "text/plain": [
       "[('0MN7', 'New York'),\n",
       " ('4H8P', 'Chicago'),\n",
       " ('4RT3', 'Los Angeles'),\n",
       " ('7G3H', 'Chicago'),\n",
       " ('8JN6', 'Chicago'),\n",
       " ('8Y6U', 'New York'),\n",
       " ('9J6F', 'Chicago'),\n",
       " ('LL08', 'Los Angeles'),\n",
       " ('P0H6', 'Chicago'),\n",
       " ('P2T6', 'Chicago'),\n",
       " ('TU55', 'San Francisco')]"
      ]
     },
     "execution_count": 31,
     "metadata": {},
     "output_type": "execute_result"
    }
   ],
   "source": [
    "\n",
    "\n",
    "%%sql\n",
    "\n",
    "select Boxes.Code, Warehouses.Location from Boxes inner join Warehouses on  \n",
    "Boxes.Warehouse = Warehouses.Code\n"
   ]
  },
  {
   "cell_type": "code",
   "execution_count": 35,
   "id": "14daf9f5",
   "metadata": {},
   "outputs": [
    {
     "name": "stdout",
     "output_type": "stream",
     "text": [
      " * sqlite://\n",
      "Done.\n"
     ]
    },
    {
     "data": {
      "text/html": [
       "<table>\n",
       "    <thead>\n",
       "        <tr>\n",
       "            <th>Warehouse</th>\n",
       "            <th>Count(Warehouse)</th>\n",
       "        </tr>\n",
       "    </thead>\n",
       "    <tbody>\n",
       "        <tr>\n",
       "            <td>1</td>\n",
       "            <td>4</td>\n",
       "        </tr>\n",
       "        <tr>\n",
       "            <td>2</td>\n",
       "            <td>2</td>\n",
       "        </tr>\n",
       "        <tr>\n",
       "            <td>3</td>\n",
       "            <td>2</td>\n",
       "        </tr>\n",
       "        <tr>\n",
       "            <td>4</td>\n",
       "            <td>2</td>\n",
       "        </tr>\n",
       "        <tr>\n",
       "            <td>5</td>\n",
       "            <td>1</td>\n",
       "        </tr>\n",
       "    </tbody>\n",
       "</table>"
      ],
      "text/plain": [
       "[(1, 4), (2, 2), (3, 2), (4, 2), (5, 1)]"
      ]
     },
     "execution_count": 35,
     "metadata": {},
     "output_type": "execute_result"
    }
   ],
   "source": [
    "\n",
    "\n",
    "%%sql \n",
    "\n",
    "select Boxes.Warehouse, Count(Warehouse) from Boxes \n",
    "Group by Boxes.Warehouse;\n"
   ]
  },
  {
   "cell_type": "code",
   "execution_count": 36,
   "id": "f132142c",
   "metadata": {},
   "outputs": [
    {
     "name": "stdout",
     "output_type": "stream",
     "text": [
      " * sqlite://\n",
      "Done.\n"
     ]
    },
    {
     "data": {
      "text/html": [
       "<table>\n",
       "    <thead>\n",
       "        <tr>\n",
       "            <th>Code</th>\n",
       "        </tr>\n",
       "    </thead>\n",
       "    <tbody>\n",
       "        <tr>\n",
       "            <td>1</td>\n",
       "        </tr>\n",
       "    </tbody>\n",
       "</table>"
      ],
      "text/plain": [
       "[(1,)]"
      ]
     },
     "execution_count": 36,
     "metadata": {},
     "output_type": "execute_result"
    }
   ],
   "source": [
    "\n",
    "\n",
    "%%sql\n",
    "\n",
    "select Code\n",
    "   FROM Warehouses\n",
    "   where Capacity <\n",
    "   (\n",
    "     select COUNT(*)\n",
    "       from Boxes\n",
    "       where Warehouse = Warehouses.Code\n",
    "   )"
   ]
  },
  {
   "cell_type": "code",
   "execution_count": 39,
   "id": "107c553f",
   "metadata": {},
   "outputs": [
    {
     "name": "stdout",
     "output_type": "stream",
     "text": [
      " * sqlite://\n",
      "Done.\n"
     ]
    },
    {
     "data": {
      "text/html": [
       "<table>\n",
       "    <thead>\n",
       "        <tr>\n",
       "            <th>Code</th>\n",
       "        </tr>\n",
       "    </thead>\n",
       "    <tbody>\n",
       "        <tr>\n",
       "            <td>4H8P</td>\n",
       "        </tr>\n",
       "        <tr>\n",
       "            <td>7G3H</td>\n",
       "        </tr>\n",
       "        <tr>\n",
       "            <td>8JN6</td>\n",
       "        </tr>\n",
       "        <tr>\n",
       "            <td>P0H6</td>\n",
       "        </tr>\n",
       "        <tr>\n",
       "            <td>9J6F</td>\n",
       "        </tr>\n",
       "        <tr>\n",
       "            <td>P2T6</td>\n",
       "        </tr>\n",
       "    </tbody>\n",
       "</table>"
      ],
      "text/plain": [
       "[('4H8P',), ('7G3H',), ('8JN6',), ('P0H6',), ('9J6F',), ('P2T6',)]"
      ]
     },
     "execution_count": 39,
     "metadata": {},
     "output_type": "execute_result"
    }
   ],
   "source": [
    "\n",
    "\n",
    "%%sql \n",
    "\n",
    "select  Boxes.Code\n",
    "   from  Warehouses left join Boxes\n",
    "   ON Warehouses.Code = Boxes.Warehouse\n",
    "   where Location = 'Chicago';"
   ]
  },
  {
   "cell_type": "code",
   "execution_count": 40,
   "id": "276c59e9",
   "metadata": {},
   "outputs": [
    {
     "name": "stdout",
     "output_type": "stream",
     "text": [
      " * sqlite://\n",
      "Done.\n"
     ]
    },
    {
     "data": {
      "text/html": [
       "<table>\n",
       "    <thead>\n",
       "        <tr>\n",
       "            <th>Code</th>\n",
       "        </tr>\n",
       "    </thead>\n",
       "    <tbody>\n",
       "        <tr>\n",
       "            <td>4H8P</td>\n",
       "        </tr>\n",
       "        <tr>\n",
       "            <td>7G3H</td>\n",
       "        </tr>\n",
       "        <tr>\n",
       "            <td>8JN6</td>\n",
       "        </tr>\n",
       "        <tr>\n",
       "            <td>9J6F</td>\n",
       "        </tr>\n",
       "        <tr>\n",
       "            <td>P0H6</td>\n",
       "        </tr>\n",
       "        <tr>\n",
       "            <td>P2T6</td>\n",
       "        </tr>\n",
       "    </tbody>\n",
       "</table>"
      ],
      "text/plain": [
       "[('4H8P',), ('7G3H',), ('8JN6',), ('9J6F',), ('P0H6',), ('P2T6',)]"
      ]
     },
     "execution_count": 40,
     "metadata": {},
     "output_type": "execute_result"
    }
   ],
   "source": [
    "%%sql \n",
    "\n",
    "select  Code\n",
    "   from  Boxes\n",
    "   where  Warehouse IN\n",
    "   (\n",
    "     select Code\n",
    "       from  Warehouses\n",
    "       where Location = 'Chicago'\n",
    "   );"
   ]
  },
  {
   "cell_type": "code",
   "execution_count": null,
   "id": "fb4df09d",
   "metadata": {},
   "outputs": [],
   "source": [
    "\n",
    "\n",
    "\n"
   ]
  },
  {
   "cell_type": "code",
   "execution_count": 42,
   "id": "e9f622fd",
   "metadata": {},
   "outputs": [
    {
     "name": "stdout",
     "output_type": "stream",
     "text": [
      " * sqlite://\n",
      "1 rows affected.\n"
     ]
    },
    {
     "data": {
      "text/plain": [
       "[]"
      ]
     },
     "execution_count": 42,
     "metadata": {},
     "output_type": "execute_result"
    }
   ],
   "source": [
    "\n",
    "%%sql\n",
    "insert into Warehouses values(6, 'New York', 3)"
   ]
  },
  {
   "cell_type": "code",
   "execution_count": 45,
   "id": "ed0e4700",
   "metadata": {},
   "outputs": [
    {
     "name": "stdout",
     "output_type": "stream",
     "text": [
      " * sqlite://\n",
      "Done.\n"
     ]
    },
    {
     "data": {
      "text/html": [
       "<table>\n",
       "    <thead>\n",
       "        <tr>\n",
       "            <th>Code</th>\n",
       "            <th>Location</th>\n",
       "            <th>Capacity</th>\n",
       "        </tr>\n",
       "    </thead>\n",
       "    <tbody>\n",
       "        <tr>\n",
       "            <td>1</td>\n",
       "            <td>Chicago</td>\n",
       "            <td>3</td>\n",
       "        </tr>\n",
       "        <tr>\n",
       "            <td>2</td>\n",
       "            <td>Chicago</td>\n",
       "            <td>4</td>\n",
       "        </tr>\n",
       "        <tr>\n",
       "            <td>3</td>\n",
       "            <td>New York</td>\n",
       "            <td>7</td>\n",
       "        </tr>\n",
       "        <tr>\n",
       "            <td>4</td>\n",
       "            <td>Los Angeles</td>\n",
       "            <td>2</td>\n",
       "        </tr>\n",
       "        <tr>\n",
       "            <td>5</td>\n",
       "            <td>San Francisco</td>\n",
       "            <td>8</td>\n",
       "        </tr>\n",
       "        <tr>\n",
       "            <td>6</td>\n",
       "            <td>New York</td>\n",
       "            <td>3</td>\n",
       "        </tr>\n",
       "    </tbody>\n",
       "</table>"
      ],
      "text/plain": [
       "[(1, 'Chicago', 3),\n",
       " (2, 'Chicago', 4),\n",
       " (3, 'New York', 7),\n",
       " (4, 'Los Angeles', 2),\n",
       " (5, 'San Francisco', 8),\n",
       " (6, 'New York', 3)]"
      ]
     },
     "execution_count": 45,
     "metadata": {},
     "output_type": "execute_result"
    }
   ],
   "source": [
    "%%sql\n",
    "select * from Warehouses;"
   ]
  },
  {
   "cell_type": "code",
   "execution_count": 47,
   "id": "235cede8",
   "metadata": {},
   "outputs": [
    {
     "name": "stdout",
     "output_type": "stream",
     "text": [
      " * sqlite://\n",
      "1 rows affected.\n"
     ]
    },
    {
     "data": {
      "text/plain": [
       "[]"
      ]
     },
     "execution_count": 47,
     "metadata": {},
     "output_type": "execute_result"
    }
   ],
   "source": [
    "\n",
    "\n",
    "%%sql\n",
    "\n",
    "insert into Boxes values('H5RT', 'papers', 200, 2)"
   ]
  },
  {
   "cell_type": "code",
   "execution_count": 50,
   "id": "7b0378bf",
   "metadata": {},
   "outputs": [
    {
     "name": "stdout",
     "output_type": "stream",
     "text": [
      " * sqlite://\n",
      "Done.\n"
     ]
    },
    {
     "data": {
      "text/html": [
       "<table>\n",
       "    <thead>\n",
       "        <tr>\n",
       "            <th>Code</th>\n",
       "            <th>Contents</th>\n",
       "            <th>Value</th>\n",
       "            <th>Warehouse</th>\n",
       "        </tr>\n",
       "    </thead>\n",
       "    <tbody>\n",
       "        <tr>\n",
       "            <td>0MN7</td>\n",
       "            <td>Rocks</td>\n",
       "            <td>180.0</td>\n",
       "            <td>3</td>\n",
       "        </tr>\n",
       "        <tr>\n",
       "            <td>4H8P</td>\n",
       "            <td>Rocks</td>\n",
       "            <td>250.0</td>\n",
       "            <td>1</td>\n",
       "        </tr>\n",
       "        <tr>\n",
       "            <td>4RT3</td>\n",
       "            <td>Scissors</td>\n",
       "            <td>190.0</td>\n",
       "            <td>4</td>\n",
       "        </tr>\n",
       "        <tr>\n",
       "            <td>7G3H</td>\n",
       "            <td>Rocks</td>\n",
       "            <td>200.0</td>\n",
       "            <td>1</td>\n",
       "        </tr>\n",
       "        <tr>\n",
       "            <td>8JN6</td>\n",
       "            <td>Papers</td>\n",
       "            <td>75.0</td>\n",
       "            <td>1</td>\n",
       "        </tr>\n",
       "        <tr>\n",
       "            <td>8Y6U</td>\n",
       "            <td>Papers</td>\n",
       "            <td>50.0</td>\n",
       "            <td>3</td>\n",
       "        </tr>\n",
       "        <tr>\n",
       "            <td>9J6F</td>\n",
       "            <td>Papers</td>\n",
       "            <td>175.0</td>\n",
       "            <td>2</td>\n",
       "        </tr>\n",
       "        <tr>\n",
       "            <td>LL08</td>\n",
       "            <td>Rocks</td>\n",
       "            <td>140.0</td>\n",
       "            <td>4</td>\n",
       "        </tr>\n",
       "        <tr>\n",
       "            <td>P0H6</td>\n",
       "            <td>Scissors</td>\n",
       "            <td>125.0</td>\n",
       "            <td>1</td>\n",
       "        </tr>\n",
       "        <tr>\n",
       "            <td>P2T6</td>\n",
       "            <td>Scissors</td>\n",
       "            <td>150.0</td>\n",
       "            <td>2</td>\n",
       "        </tr>\n",
       "        <tr>\n",
       "            <td>TU55</td>\n",
       "            <td>Papers</td>\n",
       "            <td>90.0</td>\n",
       "            <td>5</td>\n",
       "        </tr>\n",
       "        <tr>\n",
       "            <td>H5RT</td>\n",
       "            <td>papers</td>\n",
       "            <td>200.0</td>\n",
       "            <td>2</td>\n",
       "        </tr>\n",
       "    </tbody>\n",
       "</table>"
      ],
      "text/plain": [
       "[('0MN7', 'Rocks', 180.0, 3),\n",
       " ('4H8P', 'Rocks', 250.0, 1),\n",
       " ('4RT3', 'Scissors', 190.0, 4),\n",
       " ('7G3H', 'Rocks', 200.0, 1),\n",
       " ('8JN6', 'Papers', 75.0, 1),\n",
       " ('8Y6U', 'Papers', 50.0, 3),\n",
       " ('9J6F', 'Papers', 175.0, 2),\n",
       " ('LL08', 'Rocks', 140.0, 4),\n",
       " ('P0H6', 'Scissors', 125.0, 1),\n",
       " ('P2T6', 'Scissors', 150.0, 2),\n",
       " ('TU55', 'Papers', 90.0, 5),\n",
       " ('H5RT', 'papers', 200.0, 2)]"
      ]
     },
     "execution_count": 50,
     "metadata": {},
     "output_type": "execute_result"
    }
   ],
   "source": [
    "\n",
    "\n",
    "\n",
    "%%sql\n",
    "select * from Boxes ;"
   ]
  },
  {
   "cell_type": "code",
   "execution_count": 51,
   "id": "d8d71af2",
   "metadata": {},
   "outputs": [
    {
     "name": "stdout",
     "output_type": "stream",
     "text": [
      " * sqlite://\n",
      "12 rows affected.\n"
     ]
    },
    {
     "data": {
      "text/plain": [
       "[]"
      ]
     },
     "execution_count": 51,
     "metadata": {},
     "output_type": "execute_result"
    }
   ],
   "source": [
    "\n",
    "\n",
    "%%sql\n",
    "\n",
    "update Boxes set \n",
    "value = Value * 0.85"
   ]
  },
  {
   "cell_type": "code",
   "execution_count": 54,
   "id": "e5f9134c",
   "metadata": {},
   "outputs": [
    {
     "name": "stdout",
     "output_type": "stream",
     "text": [
      " * sqlite://\n",
      "Done.\n"
     ]
    },
    {
     "data": {
      "text/html": [
       "<table>\n",
       "    <thead>\n",
       "        <tr>\n",
       "            <th>Code</th>\n",
       "            <th>Contents</th>\n",
       "            <th>Value</th>\n",
       "            <th>Warehouse</th>\n",
       "        </tr>\n",
       "    </thead>\n",
       "    <tbody>\n",
       "        <tr>\n",
       "            <td>0MN7</td>\n",
       "            <td>Rocks</td>\n",
       "            <td>153.0</td>\n",
       "            <td>3</td>\n",
       "        </tr>\n",
       "        <tr>\n",
       "            <td>4H8P</td>\n",
       "            <td>Rocks</td>\n",
       "            <td>212.5</td>\n",
       "            <td>1</td>\n",
       "        </tr>\n",
       "        <tr>\n",
       "            <td>4RT3</td>\n",
       "            <td>Scissors</td>\n",
       "            <td>161.5</td>\n",
       "            <td>4</td>\n",
       "        </tr>\n",
       "        <tr>\n",
       "            <td>7G3H</td>\n",
       "            <td>Rocks</td>\n",
       "            <td>170.0</td>\n",
       "            <td>1</td>\n",
       "        </tr>\n",
       "        <tr>\n",
       "            <td>8JN6</td>\n",
       "            <td>Papers</td>\n",
       "            <td>63.75</td>\n",
       "            <td>1</td>\n",
       "        </tr>\n",
       "        <tr>\n",
       "            <td>8Y6U</td>\n",
       "            <td>Papers</td>\n",
       "            <td>42.5</td>\n",
       "            <td>3</td>\n",
       "        </tr>\n",
       "        <tr>\n",
       "            <td>9J6F</td>\n",
       "            <td>Papers</td>\n",
       "            <td>148.75</td>\n",
       "            <td>2</td>\n",
       "        </tr>\n",
       "        <tr>\n",
       "            <td>LL08</td>\n",
       "            <td>Rocks</td>\n",
       "            <td>119.0</td>\n",
       "            <td>4</td>\n",
       "        </tr>\n",
       "        <tr>\n",
       "            <td>P0H6</td>\n",
       "            <td>Scissors</td>\n",
       "            <td>106.25</td>\n",
       "            <td>1</td>\n",
       "        </tr>\n",
       "        <tr>\n",
       "            <td>P2T6</td>\n",
       "            <td>Scissors</td>\n",
       "            <td>127.5</td>\n",
       "            <td>2</td>\n",
       "        </tr>\n",
       "        <tr>\n",
       "            <td>TU55</td>\n",
       "            <td>Papers</td>\n",
       "            <td>76.5</td>\n",
       "            <td>5</td>\n",
       "        </tr>\n",
       "        <tr>\n",
       "            <td>H5RT</td>\n",
       "            <td>papers</td>\n",
       "            <td>170.0</td>\n",
       "            <td>2</td>\n",
       "        </tr>\n",
       "    </tbody>\n",
       "</table>"
      ],
      "text/plain": [
       "[('0MN7', 'Rocks', 153.0, 3),\n",
       " ('4H8P', 'Rocks', 212.5, 1),\n",
       " ('4RT3', 'Scissors', 161.5, 4),\n",
       " ('7G3H', 'Rocks', 170.0, 1),\n",
       " ('8JN6', 'Papers', 63.75, 1),\n",
       " ('8Y6U', 'Papers', 42.5, 3),\n",
       " ('9J6F', 'Papers', 148.75, 2),\n",
       " ('LL08', 'Rocks', 119.0, 4),\n",
       " ('P0H6', 'Scissors', 106.25, 1),\n",
       " ('P2T6', 'Scissors', 127.5, 2),\n",
       " ('TU55', 'Papers', 76.5, 5),\n",
       " ('H5RT', 'papers', 170.0, 2)]"
      ]
     },
     "execution_count": 54,
     "metadata": {},
     "output_type": "execute_result"
    }
   ],
   "source": [
    "\n",
    "\n",
    "%%sql\n",
    "select * from boxes ;"
   ]
  },
  {
   "cell_type": "code",
   "execution_count": null,
   "id": "65b4e058",
   "metadata": {},
   "outputs": [],
   "source": [
    "\n",
    "\n",
    "-- 3.16 Add Index for column \"Warehouse\" in table \"boxes\"\n",
    "    -- !!!NOTE!!!: index should NOT be used on small tables in practice\n",
    "-- 3.17 Print all the existing indexes\n",
    "    -- !!!NOTE!!!: index should NOT be used on small tables in practice\n",
    "-- 3.18 Remove (drop) the index you added just\n",
    "    -- !!!NOTE!!!: index should NOT be used on small tables in practice"
   ]
  },
  {
   "cell_type": "code",
   "execution_count": 56,
   "id": "82bd588e",
   "metadata": {},
   "outputs": [
    {
     "name": "stdout",
     "output_type": "stream",
     "text": [
      " * sqlite://\n",
      "3 rows affected.\n"
     ]
    },
    {
     "data": {
      "text/plain": [
       "[]"
      ]
     },
     "execution_count": 56,
     "metadata": {},
     "output_type": "execute_result"
    }
   ],
   "source": [
    "\n",
    "\n",
    "%%sql\n",
    "\n",
    "DELETE FROM Boxes where Value< 100;"
   ]
  },
  {
   "cell_type": "code",
   "execution_count": 57,
   "id": "64270d61",
   "metadata": {},
   "outputs": [
    {
     "name": "stdout",
     "output_type": "stream",
     "text": [
      " * sqlite://\n",
      "0 rows affected.\n"
     ]
    },
    {
     "data": {
      "text/plain": [
       "[]"
      ]
     },
     "execution_count": 57,
     "metadata": {},
     "output_type": "execute_result"
    }
   ],
   "source": [
    "\n",
    "\n",
    "%%sql \n",
    "\n",
    "delete from boxes\n",
    "where warehouse in\n",
    "(\n",
    "select Code\n",
    "   from Warehouses\n",
    "   where Capacity <\n",
    "   (\n",
    "     select COUNT(*)\n",
    "       from Boxes\n",
    "       where Warehouse = Warehouses.Code\n",
    "   )\n",
    ");\n",
    "\n",
    "\n",
    "\n"
   ]
  },
  {
   "cell_type": "code",
   "execution_count": 58,
   "id": "8ec04bbb",
   "metadata": {},
   "outputs": [
    {
     "name": "stdout",
     "output_type": "stream",
     "text": [
      " * sqlite://\n",
      "Done.\n"
     ]
    },
    {
     "data": {
      "text/plain": [
       "[]"
      ]
     },
     "execution_count": 58,
     "metadata": {},
     "output_type": "execute_result"
    }
   ],
   "source": [
    "%%sql\n",
    "\n",
    "CREATE INDEX INDEX_WAREHOUSE ON Boxes (warehouse);"
   ]
  },
  {
   "cell_type": "code",
   "execution_count": 63,
   "id": "a126664f",
   "metadata": {},
   "outputs": [
    {
     "name": "stdout",
     "output_type": "stream",
     "text": [
      " * sqlite://\n",
      "Done.\n"
     ]
    },
    {
     "data": {
      "text/html": [
       "<table>\n",
       "    <thead>\n",
       "        <tr>\n",
       "            <th>type</th>\n",
       "            <th>name</th>\n",
       "            <th>tbl_name</th>\n",
       "            <th>rootpage</th>\n",
       "            <th>sql</th>\n",
       "        </tr>\n",
       "    </thead>\n",
       "    <tbody>\n",
       "        <tr>\n",
       "            <td>index</td>\n",
       "            <td>sqlite_autoindex_Boxes_1</td>\n",
       "            <td>Boxes</td>\n",
       "            <td>4</td>\n",
       "            <td>None</td>\n",
       "        </tr>\n",
       "        <tr>\n",
       "            <td>index</td>\n",
       "            <td>INDEX_WAREHOUSE</td>\n",
       "            <td>Boxes</td>\n",
       "            <td>5</td>\n",
       "            <td>CREATE INDEX INDEX_WAREHOUSE ON Boxes (warehouse)</td>\n",
       "        </tr>\n",
       "    </tbody>\n",
       "</table>"
      ],
      "text/plain": [
       "[('index', 'sqlite_autoindex_Boxes_1', 'Boxes', 4, None),\n",
       " ('index', 'INDEX_WAREHOUSE', 'Boxes', 5, 'CREATE INDEX INDEX_WAREHOUSE ON Boxes (warehouse)')]"
      ]
     },
     "execution_count": 63,
     "metadata": {},
     "output_type": "execute_result"
    }
   ],
   "source": [
    "%%sql\n",
    "select  * from SQLITE_MASTER where type = \"index\";"
   ]
  },
  {
   "cell_type": "code",
   "execution_count": 64,
   "id": "708b3913",
   "metadata": {},
   "outputs": [
    {
     "name": "stdout",
     "output_type": "stream",
     "text": [
      " * sqlite://\n",
      "Done.\n"
     ]
    },
    {
     "data": {
      "text/plain": [
       "[]"
      ]
     },
     "execution_count": 64,
     "metadata": {},
     "output_type": "execute_result"
    }
   ],
   "source": [
    "%%sql\n",
    "\n",
    "DROP INDEX INDEX_WAREHOUSE;"
   ]
  },
  {
   "cell_type": "code",
   "execution_count": 65,
   "id": "f26ff36e",
   "metadata": {},
   "outputs": [
    {
     "name": "stdout",
     "output_type": "stream",
     "text": [
      " * sqlite://\n",
      "Done.\n"
     ]
    },
    {
     "data": {
      "text/html": [
       "<table>\n",
       "    <thead>\n",
       "        <tr>\n",
       "            <th>type</th>\n",
       "            <th>name</th>\n",
       "            <th>tbl_name</th>\n",
       "            <th>rootpage</th>\n",
       "            <th>sql</th>\n",
       "        </tr>\n",
       "    </thead>\n",
       "    <tbody>\n",
       "        <tr>\n",
       "            <td>index</td>\n",
       "            <td>sqlite_autoindex_Boxes_1</td>\n",
       "            <td>Boxes</td>\n",
       "            <td>4</td>\n",
       "            <td>None</td>\n",
       "        </tr>\n",
       "    </tbody>\n",
       "</table>"
      ],
      "text/plain": [
       "[('index', 'sqlite_autoindex_Boxes_1', 'Boxes', 4, None)]"
      ]
     },
     "execution_count": 65,
     "metadata": {},
     "output_type": "execute_result"
    }
   ],
   "source": [
    "%%sql\n",
    "select  * from SQLITE_MASTER where type = \"index\";"
   ]
  },
  {
   "cell_type": "code",
   "execution_count": null,
   "id": "18010ac8",
   "metadata": {},
   "outputs": [],
   "source": []
  },
  {
   "cell_type": "code",
   "execution_count": null,
   "id": "fa26b875",
   "metadata": {},
   "outputs": [],
   "source": []
  },
  {
   "cell_type": "code",
   "execution_count": null,
   "id": "a7dac07d",
   "metadata": {},
   "outputs": [],
   "source": []
  },
  {
   "cell_type": "code",
   "execution_count": null,
   "id": "5876379d",
   "metadata": {},
   "outputs": [],
   "source": []
  },
  {
   "cell_type": "code",
   "execution_count": null,
   "id": "78ab56b9",
   "metadata": {},
   "outputs": [],
   "source": []
  },
  {
   "cell_type": "code",
   "execution_count": null,
   "id": "fbf1dde3",
   "metadata": {},
   "outputs": [],
   "source": []
  },
  {
   "cell_type": "code",
   "execution_count": null,
   "id": "ad50dd07",
   "metadata": {},
   "outputs": [],
   "source": []
  }
 ],
 "metadata": {
  "kernelspec": {
   "display_name": "Python 3 (ipykernel)",
   "language": "python",
   "name": "python3"
  },
  "language_info": {
   "codemirror_mode": {
    "name": "ipython",
    "version": 3
   },
   "file_extension": ".py",
   "mimetype": "text/x-python",
   "name": "python",
   "nbconvert_exporter": "python",
   "pygments_lexer": "ipython3",
   "version": "3.10.9"
  }
 },
 "nbformat": 4,
 "nbformat_minor": 5
}
